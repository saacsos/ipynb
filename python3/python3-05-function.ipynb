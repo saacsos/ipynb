{
 "cells": [
  {
   "cell_type": "markdown",
   "metadata": {},
   "source": [
    "# Table of Contents\n",
    "* Function Definition\n",
    "* Function Calling\n",
    "* Global (ไม่ควรใช้)\n",
    "* Value Type v.s. Reference Type"
   ]
  },
  {
   "cell_type": "markdown",
   "metadata": {},
   "source": [
    "# Function Definition (การนิยามฟังก์ชัน)\n",
    "\n",
    "```python\n",
    "def function_name(parameter1, parameter2, ..., parameterN):\n",
    "    # Process 1\n",
    "    # Process 2\n",
    "    # ...\n",
    "    # Process N\n",
    "    return some_data\n",
    "```\n",
    "\n",
    "* Function เป็นโปรแกรมย่อย ที่ช่วยเหลือโปรแกรมหลัก\n",
    "* มี Input > Process > Output คล้ายโปรแกรมหลัก\n",
    "    * Input คือ parameter ที่รับเข้ามาในวงเล็บหลังชื่อฟังก์ชัน (มีหรือไม่มีก็ได้)\n",
    "    * Process คือ การทำงานภายในฟังก์ชัน\n",
    "    * Output คือ การคืนค่าด้วย keyword `return` (มีหรือไม่มีก็ได้)"
   ]
  },
  {
   "cell_type": "markdown",
   "metadata": {},
   "source": [
    "### การนิยามฟังก์ชันที่ดี\n",
    "* ไม่ควรมีการพิมพ์ (คำสั่ง print()) ในฟังก์ชัน \n",
    "    * ใช้วิธีการ return ค่าเพื่อไปพิมพ์นอกฟังก์ชัน \n",
    "    * เว้นแต่การพิมพ์นั้น มีไว้เพื่อการ debug ข้อมูล\n",
    "    \n",
    "> debugging หมายถึง การตรวจสอบค่าของข้อมูลในช่วงการพัฒนาโปรแกรม\n",
    "\n",
    "* ไม่ควรเปลี่ยนแปลงค่าของตัวแปรภายนอกฟังก์ชัน \n",
    "    * ไม่ควรใช้ global\n",
    "* ภายในฟังก์ชัน ควรทำงานกับตัวแปรที่รับมาผ่าน parameter\n",
    "    * เพื่อแยก scope ของฟังก์ชัน ออกจากโปรแกรมหลัก"
   ]
  },
  {
   "cell_type": "code",
   "execution_count": null,
   "metadata": {
    "collapsed": true
   },
   "outputs": [],
   "source": [
    "# ฟังก์ชันคำนวณพื้นที่สามเหลี่ยม\n",
    "def triangle_area(base, height):       # Input ของ function รับผ่าน parameter\n",
    "    area = (1/2) * base * height       # Process\n",
    "                                                        # ตัวแปรที่ประกาศขึ้นใหม่ใน function เรียกว่า local variable จะไม่ส่งผลกับตัวแปรที่ชื่อซ้ำกันที่อยู่นอกฟังก์ชัน\n",
    "    return area                                 # Output ของ function ส่งค่าผ่าน return"
   ]
  },
  {
   "cell_type": "markdown",
   "metadata": {},
   "source": [
    "> เมื่อจบการทำงานของฟังก์ชัน ตัวแปรที่ประกาศในฟังก์ชัน รวมถึง parameter ที่ประกาศในฟังก์ชัน จะหายไป"
   ]
  },
  {
   "cell_type": "markdown",
   "metadata": {},
   "source": [
    "# Funtion Calling (การเรียกใช้ฟังก์ชัน)\n",
    "* เรียกโดยส่งจำนวน Parameter ให้เท่ากับตอนประกาศ"
   ]
  },
  {
   "cell_type": "code",
   "execution_count": null,
   "metadata": {
    "collapsed": true
   },
   "outputs": [],
   "source": [
    "# ส่งค่า ไปตรง ๆ\n",
    "area1 = triangle_area(40, 50)       # เรียกฟังก์ชัน triangle_area() โดยส่ง 40 ไปให้ base และ 50 ไปให้ height\n",
    "                                                    # แล้วนำค่าที่ return จาก ฟังก์ชัน triangle_area() ไป assign ให้ ตัวแปร area1\n",
    "print(\"Triangle Area:\", area1)\n",
    "\n",
    "print(\"Triangle Area:\", triangle_area(30, 40))    # เรียกฟังก์ชัน triangle_area() โดยส่ง 40 ไปให้ base และ 50 ไปให้ height\n",
    "                                                                       # แล้วนำค่าที่ return จาก ฟังก์ชัน triangle_area() ไปแสดงผล"
   ]
  },
  {
   "cell_type": "code",
   "execution_count": null,
   "metadata": {
    "collapsed": true
   },
   "outputs": [],
   "source": [
    "# ส่งค่า ผ่านตัวแปร\n",
    "b = float(input(\"Enter base: \"))\n",
    "h = float(input(\"Enter height: \"))\n",
    "area2 = triangle_area(b, h)          # เรียกฟังก์ชัน triangle_area() โดยส่งค่าในตัวแปร b ไปให้ base และ ค่าในตัวแปร h ไปให้ height\n",
    "                                                   # แล้วนำค่าที่ return จาก ฟังก์ชัน triangle_area() ไป assign ให้ ตัวแปร area2\n",
    "print(\"Triangle Area:\", area2)\n",
    "\n",
    "print(\"Triangle Area:\", triangle_area(b, h))"
   ]
  },
  {
   "cell_type": "code",
   "execution_count": null,
   "metadata": {
    "collapsed": true
   },
   "outputs": [],
   "source": [
    "base = 200\n",
    "height = 200\n",
    "area = triangle_area(base, height)   # ตัวแปรใน main program อาจมีชื่อซ้ำกับใน function ได้ โดยมี scope (อายุของตัวแปร) ต่างกัน\n",
    "print(\"Triangle Area:\", area)"
   ]
  },
  {
   "cell_type": "markdown",
   "metadata": {},
   "source": [
    "### ตัวอย่างฟังก์ชันที่ไม่ return"
   ]
  },
  {
   "cell_type": "code",
   "execution_count": null,
   "metadata": {
    "collapsed": false
   },
   "outputs": [],
   "source": [
    "def increment_and_print(a):       # parameter ของ Function จะมี scope ภายใน Function นี้เท่านั้น\n",
    "    a = a + 1                                # การเปลี่ยนแปลงค่าของ parameter จะไม่ส่งผลต่อตัวแปรที่อยู่นอกฟังก์ชัน แม้จะมีชื่อเหมือนกัน\n",
    "    print(\"a in function:\", a)\n",
    "    \n",
    "    \n",
    "# ส่วนของ Main Program\n",
    "a = 10\n",
    "increment_and_print(a)               # เรียกฟังก์ชัน triangle_area()  โดยไม่ต้องมีตัวแปรมารับค่า\n",
    "\n",
    "print(\"a in main:\", a)"
   ]
  },
  {
   "cell_type": "markdown",
   "metadata": {},
   "source": [
    "### ตัวอย่างฟังก์ชันที่ไม่ดี"
   ]
  },
  {
   "cell_type": "code",
   "execution_count": null,
   "metadata": {
    "collapsed": true
   },
   "outputs": [],
   "source": [
    "def print_double_a():\n",
    "    print(\"double a in function:\", a * 2)     # เรียกใช้งานตัวแปรที่อยู่นอกฟังก์ชัน (ไม่ควรทำ)"
   ]
  },
  {
   "cell_type": "code",
   "execution_count": null,
   "metadata": {
    "collapsed": false
   },
   "outputs": [],
   "source": [
    "a = 10\n",
    "print_double_a()\n",
    "print(\"a in main:\", a)"
   ]
  },
  {
   "cell_type": "markdown",
   "metadata": {},
   "source": [
    "#### *ไม่ดีอย่างไร*"
   ]
  },
  {
   "cell_type": "code",
   "execution_count": null,
   "metadata": {
    "collapsed": false
   },
   "outputs": [],
   "source": [
    "def increase_and_print_square_a():\n",
    "    a = (a + 1) ** 2                              # เมื่อมีการเปลี่ยนค่าในฟังก์ชัน จะเกิดปัญหาว่าตัวแปรนี้ ถูกอ้างถึงไปแล้ว จึง assign ค่าใหม่ไม่ได้\n",
    "    print(\"a in function:\", a)\n",
    "    \n",
    "a = 10\n",
    "increase_and_print_square_a()\n",
    "print(\"a in main:\", a)"
   ]
  },
  {
   "cell_type": "markdown",
   "metadata": {},
   "source": [
    "#### แก้ไขอย่างไร\n",
    "1. สร้าง parameter เพื่อรับค่าเสมอ\n",
    "2. ระวังการตั้งชื่อตัวแปรซ้ำใน main program เช่น ตัวแปรนับรอบของ while loop"
   ]
  },
  {
   "cell_type": "code",
   "execution_count": null,
   "metadata": {
    "collapsed": false
   },
   "outputs": [],
   "source": [
    "def increase_and_print_square(a):   # สร้าง parameter เพื่อรับค่าเสมอ\n",
    "    a = (a + 1) ** 2                              \n",
    "    print(\"a in function:\", a)\n",
    "    \n",
    "a = 10\n",
    "increase_and_print_square(a)\n",
    "print(\"a in main:\", a)"
   ]
  },
  {
   "cell_type": "markdown",
   "metadata": {},
   "source": [
    "# Global ไม่ควรใช้\n",
    "* การประกาศตัวแปร ให้เป็น global ในฟังก์ชัน คือ การอ้างถึง reference ของตัวแปรภายนอกฟังก์ชัน\n",
    "* ไม่ควรใช้ เพราะทำให้ตัวแปรนั้น เปลี่ยนค่า และกระทบต่อส่วนอื่นของโปรแกรม\n",
    "* ไม่ควรใช้ เพราะจะเปลี่ยน Value Type เป็น Reference Type ชั่วคราว"
   ]
  },
  {
   "cell_type": "code",
   "execution_count": null,
   "metadata": {
    "collapsed": false
   },
   "outputs": [],
   "source": [
    "def add_to_a(b):\n",
    "    global a              # ประกาศว่าจะอ้างถึงตัวแปร a โดยมี scope เป็น global\n",
    "    a = a + b\n",
    "    return a\n",
    "\n",
    "\n",
    "a = 10\n",
    "print(\"a before function:\", a)\n",
    "c = add_to_a(12)\n",
    "print(\"a after function:\", a)\n",
    "print(\"c:\", c)"
   ]
  },
  {
   "cell_type": "markdown",
   "metadata": {},
   "source": [
    "# Value Type v.s. Reference Type\n",
    "### Value Type\n",
    "* คือ ชนิดของข้อมูลที่เก็บค่าของข้อมูล\n",
    "* เช่น int, float, string\n",
    "\n",
    "### Reference Type\n",
    "* คือ ชนิดของข้อมูลที่เก็บ reference ที่อ้างถึงข้อมูล\n",
    "* เช่น List"
   ]
  },
  {
   "cell_type": "markdown",
   "metadata": {},
   "source": [
    "### ตัวอย่าง Value Type"
   ]
  },
  {
   "cell_type": "code",
   "execution_count": null,
   "metadata": {
    "collapsed": false
   },
   "outputs": [],
   "source": [
    "str1 = \"Hello \"\n",
    "str2 = str1                 # assign ค่าจากตัวแปร str1 ให้ ตัวแปร str2\n",
    "print(\"str1:\", str1)\n",
    "print(\"str2:\", str2)\n",
    "str2 += \"Python\"\n",
    "print('-' * 20)\n",
    "print(\"str1\", str1)\n",
    "print(\"str2:\", str2)"
   ]
  },
  {
   "cell_type": "code",
   "execution_count": null,
   "metadata": {
    "collapsed": false
   },
   "outputs": [],
   "source": [
    "def append_string(str1, str2):\n",
    "    str1 += str2\n",
    "    return str1\n",
    "\n",
    "\n",
    "s1 = \"Hello \"\n",
    "s2 = \"Python\"\n",
    "print(\"s1 before call function:\", s1)\n",
    "print(\"append string:\", append_string(s1, s2))\n",
    "print(\"s1 after call function:\", s1)"
   ]
  },
  {
   "cell_type": "markdown",
   "metadata": {},
   "source": [
    "### ตัวอย่าง Reference Type"
   ]
  },
  {
   "cell_type": "code",
   "execution_count": null,
   "metadata": {
    "collapsed": false
   },
   "outputs": [],
   "source": [
    "list_a = [1, 2, 3]\n",
    "list_b = list_a                 # assign reference ที่ตัวแปร str1 อ้างถึง ให้ ตัวแปร str2 อ้างถึงได้ด้วย\n",
    "print(\"list_a:\", list_a)\n",
    "print(\"list_b:\", list_b)\n",
    "list_b.append(4)\n",
    "list_b.append(4)\n",
    "list_b.append(4)\n",
    "print('-' * 20)\n",
    "print(\"list_a:\", list_a)\n",
    "print(\"list_b:\", list_b)"
   ]
  },
  {
   "cell_type": "code",
   "execution_count": null,
   "metadata": {
    "collapsed": false
   },
   "outputs": [],
   "source": [
    "def append_list(list1, list2):\n",
    "    list1 += list2\n",
    "    return list1\n",
    "\n",
    "\n",
    "ls1 = [1, 2]\n",
    "ls2 = [3, 4]\n",
    "print(\"ls1 before call function:\", ls1)\n",
    "print(\"append list:\", append_list(ls1, ls2))\n",
    "print(\"ls1 after call function:\", ls1)"
   ]
  }
 ],
 "metadata": {
  "kernelspec": {
   "display_name": "Python 3",
   "language": "python",
   "name": "python3"
  },
  "language_info": {
   "codemirror_mode": {
    "name": "ipython",
    "version": 3
   },
   "file_extension": ".py",
   "mimetype": "text/x-python",
   "name": "python",
   "nbconvert_exporter": "python",
   "pygments_lexer": "ipython3",
   "version": "3.5.2"
  }
 },
 "nbformat": 4,
 "nbformat_minor": 0
}
