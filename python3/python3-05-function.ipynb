{
 "cells": [
  {
   "cell_type": "markdown",
   "metadata": {},
   "source": [
    "# Table of Contents\n",
    "* Function Definition"
   ]
  },
  {
   "cell_type": "markdown",
   "metadata": {},
   "source": [
    "# Function Definition (การนิยามฟังก์ชัน)\n",
    "\n",
    "```python\n",
    "def function_name(parameter1, parameter2, ..., parameterN):\n",
    "    # Process 1\n",
    "    # Process 2\n",
    "    # ...\n",
    "    # Process N\n",
    "    return some_data\n",
    "```\n",
    "\n",
    "* Function เป็นโปรแกรมย่อย ที่ช่วยเหลือโปรแกรมหลัก\n",
    "* มี Input > Process > Output คล้ายโปรแกรมหลัก\n",
    "    * Input คือ parameter ที่รับเข้ามาในวงเล็บหลังชื่อฟังก์ชัน (มีหรือไม่มีก็ได้)\n",
    "    * Process คือ การทำงานภายในฟังก์ชัน\n",
    "    * Output คือ การคืนค่าด้วย keyword `return` (มีหรือไม่มีก็ได้)"
   ]
  },
  {
   "cell_type": "markdown",
   "metadata": {},
   "source": [
    "### การนิยามฟังก์ชันที่ดี\n",
    "* ไม่ควรมีการพิมพ์ (คำสั่ง print()) ในฟังก์ชัน \n",
    "    * ใช้วิธีการ return ค่าเพื่อไปพิมพ์นอกฟังก์ชัน \n",
    "    * เว้นแต่การพิมพ์นั้น มีไว้เพื่อการ debug ข้อมูล\n",
    "    \n",
    "> debugging หมายถึง การตรวจสอบค่าของข้อมูลในช่วงการพัฒนาโปรแกรม\n",
    "\n",
    "* ไม่ควรเปลี่ยนแปลงค่าของตัวแปรภายนอกฟังก์ชัน \n",
    "    * ไม่ควรใช้ global\n",
    "* ภายในฟังก์ชัน ควรทำงานกับตัวแปรที่รับมาผ่าน parameter\n",
    "    * เพื่อแยก scope ของฟังก์ชัน ออกจากโปรแกรมหลัก"
   ]
  }
 ],
 "metadata": {
  "kernelspec": {
   "display_name": "Python 3",
   "language": "python",
   "name": "python3"
  },
  "language_info": {
   "codemirror_mode": {
    "name": "ipython",
    "version": 3
   },
   "file_extension": ".py",
   "mimetype": "text/x-python",
   "name": "python",
   "nbconvert_exporter": "python",
   "pygments_lexer": "ipython3",
   "version": "3.4.4"
  }
 },
 "nbformat": 4,
 "nbformat_minor": 0
}
