{
 "cells": [
  {
   "cell_type": "markdown",
   "metadata": {},
   "source": [
    "# Table of Contents\n",
    "* String Data Type\n",
    "* String Operators\n",
    "* Immutable String\n",
    "* String Functions\n",
    "* String Methods"
   ]
  },
  {
   "cell_type": "markdown",
   "metadata": {},
   "source": [
    "# String Data Type"
   ]
  },
  {
   "cell_type": "code",
   "execution_count": null,
   "metadata": {
    "collapsed": false
   },
   "outputs": [],
   "source": [
    "str1 = 'Single Quote'\n",
    "str2 = \"Double Quote\"\n",
    "print(str1, str2)"
   ]
  },
  {
   "cell_type": "code",
   "execution_count": null,
   "metadata": {
    "collapsed": true
   },
   "outputs": [],
   "source": [
    "print(type(str1))"
   ]
  },
  {
   "cell_type": "code",
   "execution_count": null,
   "metadata": {
    "collapsed": false
   },
   "outputs": [],
   "source": [
    "# Escaped String\n",
    "escaped_str1 = 'I don\\'t hate Python.'\n",
    "print(escaped_str1)\n",
    "print('-' * 20)\n",
    "escaped_str2 = \"She said: \\\"I love Python.\\\"\"\n",
    "print(escaped_str2)\n",
    "print('-' * 20)\n",
    "escaped_str3 = \"It can't jump over Python.\"\n",
    "print(escaped_str3)"
   ]
  },
  {
   "cell_type": "code",
   "execution_count": null,
   "metadata": {
    "collapsed": false
   },
   "outputs": [],
   "source": [
    "# Escaped String\n",
    "escaped_str4 = 'Line 1\\nLine 2'\n",
    "print(escaped_str4)\n",
    "print('-' * 20)\n",
    "escaped_str5 = \"Column 1\\tColumn 2\"\n",
    "print(escaped_str5)\n",
    "print('-' * 20)\n",
    "escaped_str6 = \"How can you keep '\\\\n' or '\\\\t' in string\"\n",
    "print(escaped_str6)"
   ]
  },
  {
   "cell_type": "code",
   "execution_count": null,
   "metadata": {
    "collapsed": false
   },
   "outputs": [],
   "source": [
    "# Triple Quote\n",
    "text = '''A string in triple qoutes can extend\n",
    "over multiple lines like this one, \n",
    "or use (\\\\n)\\n will enter a new line\n",
    "and can contain 'single' or \"double\" qoutes.'''\n",
    "print(text)"
   ]
  },
  {
   "cell_type": "markdown",
   "metadata": {},
   "source": [
    "# String Operators"
   ]
  },
  {
   "cell_type": "markdown",
   "metadata": {},
   "source": [
    "### Concatenating\n",
    "ต่อ String"
   ]
  },
  {
   "cell_type": "code",
   "execution_count": null,
   "metadata": {
    "collapsed": false
   },
   "outputs": [],
   "source": [
    "print(\"Safari\" + \"World\")"
   ]
  },
  {
   "cell_type": "markdown",
   "metadata": {},
   "source": [
    "### Repetition"
   ]
  },
  {
   "cell_type": "code",
   "execution_count": null,
   "metadata": {
    "collapsed": false
   },
   "outputs": [],
   "source": [
    "print('un' * 3)"
   ]
  },
  {
   "cell_type": "code",
   "execution_count": null,
   "metadata": {
    "collapsed": false
   },
   "outputs": [],
   "source": [
    "print('un' * 3 + 'ium')"
   ]
  },
  {
   "cell_type": "code",
   "execution_count": null,
   "metadata": {
    "collapsed": false
   },
   "outputs": [],
   "source": [
    "print('un' + 'ium' * 3)"
   ]
  },
  {
   "cell_type": "markdown",
   "metadata": {},
   "source": [
    "### Indexing\n",
    "Access index of String"
   ]
  },
  {
   "cell_type": "code",
   "execution_count": null,
   "metadata": {
    "collapsed": false
   },
   "outputs": [],
   "source": [
    "print(\"Python\"[0])"
   ]
  },
  {
   "cell_type": "code",
   "execution_count": null,
   "metadata": {
    "collapsed": false
   },
   "outputs": [],
   "source": [
    "sentence = \"Introduction to Computer Science\"\n",
    "print(sentence[0], sentence[10])"
   ]
  },
  {
   "cell_type": "markdown",
   "metadata": {},
   "source": [
    "### Slicing\n",
    "ตัด String"
   ]
  },
  {
   "cell_type": "code",
   "execution_count": null,
   "metadata": {
    "collapsed": false
   },
   "outputs": [],
   "source": [
    "print(\"Python\"[2:4])"
   ]
  },
  {
   "cell_type": "code",
   "execution_count": null,
   "metadata": {
    "collapsed": false
   },
   "outputs": [],
   "source": [
    "sentence = \"Introduction to Computer Science\"\n",
    "print(sentence[0:5], sentence[13:(13 + 2)], sentence[16:])\n",
    "print(sentence[-1:-8:-1])"
   ]
  },
  {
   "cell_type": "markdown",
   "metadata": {},
   "source": [
    "### in, not in\n",
    "ตรวจสอบ String ใน String"
   ]
  },
  {
   "cell_type": "code",
   "execution_count": null,
   "metadata": {
    "collapsed": false
   },
   "outputs": [],
   "source": [
    "print(\"P\" in \"Python\")\n",
    "print(\"p\" in \"Python\")"
   ]
  },
  {
   "cell_type": "code",
   "execution_count": null,
   "metadata": {
    "collapsed": false
   },
   "outputs": [],
   "source": [
    "for ch in \"Python\":\n",
    "    print(ch, end=' ')"
   ]
  },
  {
   "cell_type": "code",
   "execution_count": null,
   "metadata": {
    "collapsed": false
   },
   "outputs": [],
   "source": [
    "if 'no' not in \"Python\":\n",
    "    print(\"Yes\")\n",
    "else:\n",
    "    print(\"No\")"
   ]
  },
  {
   "cell_type": "code",
   "execution_count": null,
   "metadata": {
    "collapsed": false
   },
   "outputs": [],
   "source": [
    "sentence = \"Introduction to Computer Science\"\n",
    "if sentence[-1:0:-3] in sentence:\n",
    "    print(\"Yes\")\n",
    "else:\n",
    "    print(\"No\")"
   ]
  },
  {
   "cell_type": "markdown",
   "metadata": {},
   "source": [
    "# Immutable Strings"
   ]
  },
  {
   "cell_type": "markdown",
   "metadata": {},
   "source": [
    "* mutate, mutant แปลว่า กลายพันธุ์\n",
    "* im เป็น prefix แปลว่า ไม่\n",
    "* able เป็น subfix แปลว่า สามารถ"
   ]
  },
  {
   "cell_type": "code",
   "execution_count": null,
   "metadata": {
    "collapsed": false
   },
   "outputs": [],
   "source": [
    "s = \"Strings are immutable!\"\n",
    "s[-1] = '.'\n",
    "# จะเห็นว่าเกิด Error เพราะ String เปลี่ยนแปลงค่าไม่ได้\n",
    "print(s)"
   ]
  },
  {
   "cell_type": "code",
   "execution_count": null,
   "metadata": {
    "collapsed": false
   },
   "outputs": [],
   "source": [
    "s = \"Strings are immutable!\"\n",
    "s = 'Intro to Computer Science'\n",
    "# กำหนดค่าใหม่ ให้กับตัวแปร s ทำได้ (ไม่ใช่การแก้ไขค่าใน String เดิม)\n",
    "print(s)"
   ]
  },
  {
   "cell_type": "code",
   "execution_count": null,
   "metadata": {
    "collapsed": false
   },
   "outputs": [],
   "source": [
    "a = \"Program\"\n",
    "b = \"Program\"\n",
    "c = b\n",
    "print(\"a is b: \", a is b)\n",
    "print(\"a is c: \", a is c)\n",
    "print(\"b is c: \", b is c)\n",
    "print(\"c is \\\"Program\\\": \", c is \"Program\")"
   ]
  },
  {
   "cell_type": "markdown",
   "metadata": {},
   "source": [
    "# String Functions"
   ]
  },
  {
   "cell_type": "markdown",
   "metadata": {},
   "source": [
    "### Size (Length)\n",
    "ความยาวของ String\n",
    "```python\n",
    "len(string)\n",
    "```"
   ]
  },
  {
   "cell_type": "code",
   "execution_count": null,
   "metadata": {
    "collapsed": false,
    "scrolled": true
   },
   "outputs": [],
   "source": [
    "print(len(\"Python\"))"
   ]
  },
  {
   "cell_type": "code",
   "execution_count": null,
   "metadata": {
    "collapsed": false
   },
   "outputs": [],
   "source": [
    "sentence = \"Introduction to Computer Science\"\n",
    "print(sentence[len(sentence) - 1])"
   ]
  },
  {
   "cell_type": "code",
   "execution_count": null,
   "metadata": {
    "collapsed": false
   },
   "outputs": [],
   "source": [
    "sentence = \"Introduction to Computer Science\"\n",
    "for i in range(0, len(sentence), 3):\n",
    "    print(sentence[i], end='')"
   ]
  },
  {
   "cell_type": "markdown",
   "metadata": {},
   "source": [
    "### ascii = ord(char) v.s. char = chr(ascii)\n",
    "```python\n",
    "ascii = ord(char)\n",
    "char = chr(ascii)\n",
    "```"
   ]
  },
  {
   "cell_type": "code",
   "execution_count": null,
   "metadata": {
    "collapsed": false
   },
   "outputs": [],
   "source": [
    "print(ord(\"A\"))\n",
    "print(ord(\"a\"))"
   ]
  },
  {
   "cell_type": "code",
   "execution_count": null,
   "metadata": {
    "collapsed": false
   },
   "outputs": [],
   "source": [
    "print(chr(65))\n",
    "print(chr(97))"
   ]
  },
  {
   "cell_type": "markdown",
   "metadata": {},
   "source": [
    "### max() and min()\n",
    "```python\n",
    "max(string)\n",
    "min(string)\n",
    "```"
   ]
  },
  {
   "cell_type": "code",
   "execution_count": null,
   "metadata": {
    "collapsed": false
   },
   "outputs": [],
   "source": [
    "print(max(\"ABC\"))\n",
    "print(min(\"xyZ\"))"
   ]
  },
  {
   "cell_type": "markdown",
   "metadata": {},
   "source": [
    "# String Methods"
   ]
  },
  {
   "cell_type": "markdown",
   "metadata": {},
   "source": [
    "## แยก รวม String"
   ]
  },
  {
   "cell_type": "markdown",
   "metadata": {},
   "source": [
    "### .split(delimeter)\n",
    "* แบ่ง String เป็น String ย่อย (ในรูปของ List) โดยแบ่งตาม `delimeter`\n",
    "* default `delimeter` คือ space (' ')"
   ]
  },
  {
   "cell_type": "code",
   "execution_count": null,
   "metadata": {
    "collapsed": false
   },
   "outputs": [],
   "source": [
    "str1 = \"Trust me, I am programmer\"\n",
    "split_strings = str1.split()\n",
    "print(split_strings)"
   ]
  },
  {
   "cell_type": "code",
   "execution_count": null,
   "metadata": {
    "collapsed": false
   },
   "outputs": [],
   "source": [
    "str1 = \"Trust me, I am programmer\"\n",
    "split_strings = str1.split(',')\n",
    "print(split_strings)"
   ]
  },
  {
   "cell_type": "code",
   "execution_count": null,
   "metadata": {
    "collapsed": false
   },
   "outputs": [],
   "source": [
    "header = \"Number,Name,Score\"\n",
    "data = \"1,Johny,8\"\n",
    "print(header.split(','))\n",
    "print(data.split(','))"
   ]
  },
  {
   "cell_type": "code",
   "execution_count": null,
   "metadata": {
    "collapsed": false
   },
   "outputs": [],
   "source": [
    "ip = '192.168.137.24'\n",
    "print(ip.split('.'))"
   ]
  },
  {
   "cell_type": "code",
   "execution_count": null,
   "metadata": {
    "collapsed": false
   },
   "outputs": [],
   "source": [
    "tsv = \"Tab\tSeparate\tValue\"\n",
    "print(tsv.split('\\t'))"
   ]
  },
  {
   "cell_type": "markdown",
   "metadata": {},
   "source": [
    "### .join(sequence)\n",
    "* เชื่อมข้อมูลใน `sequence` โดยคั่นด้วย String"
   ]
  },
  {
   "cell_type": "code",
   "execution_count": null,
   "metadata": {
    "collapsed": false
   },
   "outputs": [],
   "source": [
    "seq = [\"cs\", \"is\", \"computer\", \"science\"]\n",
    "print(\"-\".join(seq))"
   ]
  },
  {
   "cell_type": "code",
   "execution_count": null,
   "metadata": {
    "collapsed": false,
    "scrolled": true
   },
   "outputs": [],
   "source": [
    "seq = (\"cs\", \"is\", \"computer\", \"science\")\n",
    "print(\"-*-\".join(seq))"
   ]
  },
  {
   "cell_type": "markdown",
   "metadata": {},
   "source": [
    "## ค้นหา String"
   ]
  },
  {
   "cell_type": "markdown",
   "metadata": {},
   "source": [
    "### .count(sub, start, end)\n",
    "* นับจำนวนครั้งที่ `sub` string ปรากฏ ในช่วง `start` ถึงก่อน `end`\n",
    "* default `start` คือ 0\n",
    "* default `end` คือ ความยาวของ String"
   ]
  },
  {
   "cell_type": "code",
   "execution_count": null,
   "metadata": {
    "collapsed": false
   },
   "outputs": [],
   "source": [
    "s = \"cs is computer science\"\n",
    "print(s.count('c'))"
   ]
  },
  {
   "cell_type": "code",
   "execution_count": null,
   "metadata": {
    "collapsed": false
   },
   "outputs": [],
   "source": [
    "s = \"cs is computer science\"\n",
    "print(s.count('cs'))"
   ]
  },
  {
   "cell_type": "code",
   "execution_count": null,
   "metadata": {
    "collapsed": false
   },
   "outputs": [],
   "source": [
    "s = \"cs is computer science\"\n",
    "print(s[6:14])\n",
    "print(s.count('c', 6, 14))"
   ]
  },
  {
   "cell_type": "code",
   "execution_count": null,
   "metadata": {
    "collapsed": false
   },
   "outputs": [],
   "source": [
    "s = \"cs is computer science\"\n",
    "print(s[6:])\n",
    "print(s.count('c', 6))"
   ]
  },
  {
   "cell_type": "code",
   "execution_count": null,
   "metadata": {
    "collapsed": false
   },
   "outputs": [],
   "source": [
    "s = \"cs is computer science\"\n",
    "print(s[:14])\n",
    "print(s.count('c', 0, 14))"
   ]
  },
  {
   "cell_type": "markdown",
   "metadata": {},
   "source": [
    "### .startswith(prefix, start, end)\n",
    "* ตรวจสอบว่า String ในช่วง `start` ถึงก่อน `end` นั้น ขึ้นต้นด้วย `prefix` หรือไม่\n",
    "* default `start` คือ 0\n",
    "* default `end` คือ ความยาวของ String"
   ]
  },
  {
   "cell_type": "code",
   "execution_count": null,
   "metadata": {
    "collapsed": false
   },
   "outputs": [],
   "source": [
    "s = \"cs is computer science\"\n",
    "print(s.startswith('cs'))"
   ]
  },
  {
   "cell_type": "code",
   "execution_count": null,
   "metadata": {
    "collapsed": false
   },
   "outputs": [],
   "source": [
    "s = \"cs is computer science\"\n",
    "print(s.startswith('com', 6, 14))\n",
    "print(s[6:14])"
   ]
  },
  {
   "cell_type": "code",
   "execution_count": null,
   "metadata": {
    "collapsed": false,
    "scrolled": true
   },
   "outputs": [],
   "source": [
    "s = \"cs is computer science\"\n",
    "print(s.startswith('sc', 14))\n",
    "print(s[14:])"
   ]
  },
  {
   "cell_type": "markdown",
   "metadata": {},
   "source": [
    "### .endswith(suffix, start, end)\n",
    "* ตรวจสอบว่า String ในช่วง `start` ถึงก่อน `end` นั้น ลงท้ายด้วย `suffix` หรือไม่\n",
    "* default `start` คือ 0\n",
    "* default `end` คือ ความยาวของ String"
   ]
  },
  {
   "cell_type": "code",
   "execution_count": null,
   "metadata": {
    "collapsed": false
   },
   "outputs": [],
   "source": [
    "s = \"cs is computer science\"\n",
    "print(s.endswith('ce'))"
   ]
  },
  {
   "cell_type": "code",
   "execution_count": null,
   "metadata": {
    "collapsed": false
   },
   "outputs": [],
   "source": [
    "s = \"cs is computer science\"\n",
    "print(s.endswith('er', 6, 14))\n",
    "print(s[6:14])"
   ]
  },
  {
   "cell_type": "code",
   "execution_count": null,
   "metadata": {
    "collapsed": false
   },
   "outputs": [],
   "source": [
    "s = \"cs is computer science\"\n",
    "print(s.endswith('science', len(s) - 5))\n",
    "print(s[len(s) - 5:])"
   ]
  },
  {
   "cell_type": "markdown",
   "metadata": {},
   "source": [
    "### .find(needle, start, end)\n",
    "* ค้นหาว่า `needle` ปรากฏครั้งแรกใน String ช่วง `start` ถึงก่อน `end` ที่ index เท่าไหร่\n",
    "* ถ้าไม่เจอจะ return -1\n",
    "* default `start` คือ 0\n",
    "* default `end` คือ ความยาวของ String"
   ]
  },
  {
   "cell_type": "code",
   "execution_count": null,
   "metadata": {
    "collapsed": false
   },
   "outputs": [],
   "source": [
    "s = \"cs is computer science\"\n",
    "print(s.find('computer'))"
   ]
  },
  {
   "cell_type": "code",
   "execution_count": null,
   "metadata": {
    "collapsed": false
   },
   "outputs": [],
   "source": [
    "s = \"cs is computer science\"\n",
    "print(s.find('hard'))"
   ]
  },
  {
   "cell_type": "code",
   "execution_count": null,
   "metadata": {
    "collapsed": false
   },
   "outputs": [],
   "source": [
    "s = \"cs is computer science\"\n",
    "print(s.find('pu', 6, 14))\n",
    "print(s[6:14])"
   ]
  },
  {
   "cell_type": "code",
   "execution_count": null,
   "metadata": {
    "collapsed": false
   },
   "outputs": [],
   "source": [
    "s = \"cs is computer science\"\n",
    "print(s.find('cs', 9))\n",
    "print(s[9:])"
   ]
  },
  {
   "cell_type": "markdown",
   "metadata": {},
   "source": [
    "### .rfind(needle, start, end)               \n",
    "Right Find\n",
    "* ค้นหาว่า `needle` ปรากฏครั้งสุดท้ายใน String ช่วง `start` ถึงก่อน `end` ที่ index เท่าไหร่\n",
    "* ถ้าไม่เจอจะ return -1\n",
    "* default `start` คือ 0\n",
    "* default `end` คือ ความยาวของ String"
   ]
  },
  {
   "cell_type": "code",
   "execution_count": null,
   "metadata": {
    "collapsed": false
   },
   "outputs": [],
   "source": [
    "s = \"cs is computer science and this method is find from the right.\"\n",
    "needle = 'is'\n",
    "print(\"There are %d '%s' in String\" % (s.count(needle), needle))\n",
    "print(\"The first is at index\", s.find(needle))\n",
    "print(s[3:])\n",
    "print(\"The last is at index\", s.rfind(needle))\n",
    "print(s[39:])"
   ]
  },
  {
   "cell_type": "code",
   "execution_count": null,
   "metadata": {
    "collapsed": false,
    "scrolled": true
   },
   "outputs": [],
   "source": [
    "s = \"cs is computer science and this method is find from the right.\"\n",
    "needle = 'is'\n",
    "print(s.rfind(needle, 0, 39))\n",
    "print(s[:29])"
   ]
  },
  {
   "cell_type": "markdown",
   "metadata": {},
   "source": [
    "### .replace(old, new, max)\n",
    "* แทนที่คำ `old` ด้วยคำ `new` ใน String จำกัดจำนวนครั้งที่ `max`\n",
    "* default `max` คือ จำนวนทั้งหมดของคำ `old` ใน String"
   ]
  },
  {
   "cell_type": "code",
   "execution_count": null,
   "metadata": {
    "collapsed": false
   },
   "outputs": [],
   "source": [
    "s = \"cs is computer science and this method is find from the right.\"\n",
    "print(s.replace(\"is\", \"//\"))"
   ]
  },
  {
   "cell_type": "code",
   "execution_count": null,
   "metadata": {
    "collapsed": false
   },
   "outputs": [],
   "source": [
    "s = \"cs is computer science and this method is find from the right.\"\n",
    "print(s.replace(\"is\", \"//\", 2))"
   ]
  },
  {
   "cell_type": "markdown",
   "metadata": {},
   "source": [
    "## ตกแต่ง String"
   ]
  },
  {
   "cell_type": "markdown",
   "metadata": {},
   "source": [
    "### .strip(char)\n",
    "* ลบทุก `char` ที่อยู่ส่วนต้นและส่วนท้ายของ String\n",
    "\n",
    "### .lstrip(char)\n",
    "Left Strip\n",
    "* ลบทุก `char` ที่อยู่ส่วนต้น (left) ของ String\n",
    "\n",
    "### .rstrip(char)\n",
    "Right Strip\n",
    "* ลบทุก `char` ที่อยู่ส่วนท้าย (right) ของ String\n",
    "\n",
    "**_default `char` คือ space (' ')_**"
   ]
  },
  {
   "cell_type": "code",
   "execution_count": null,
   "metadata": {
    "collapsed": false
   },
   "outputs": [],
   "source": [
    "s = \"            cs is computer science          \"\n",
    "print(\"'%s'\" % s)\n",
    "print(\"'%s'\" % s.strip())\n",
    "print(\"'%s'\" % s.lstrip())\n",
    "print(\"'%s'\" % s.rstrip())"
   ]
  },
  {
   "cell_type": "code",
   "execution_count": null,
   "metadata": {
    "collapsed": false,
    "scrolled": true
   },
   "outputs": [],
   "source": [
    "s = \"##########cs#is#computer#science############\"\n",
    "print(\"'%s'\" % s)\n",
    "print(\"'%s'\" % s.strip('#'))\n",
    "print(\"'%s'\" % s.lstrip('#'))\n",
    "print(\"'%s'\" % s.rstrip('#'))"
   ]
  },
  {
   "cell_type": "markdown",
   "metadata": {},
   "source": [
    "### .center(width, fill_char)\n",
    "* จัดวางตำแหน่งกึ่งกลางในพื้นที่ขนาด `width` โดยเติมช่องว่างด้วย `fill_char`\n",
    "\n",
    "### .ljust(width, fill_char)\n",
    "Left Justify\n",
    "* จัดวางตำแหน่งชิดซ้ายในพื้นที่ขนาด `width` โดยเติมช่องว่างด้วย `fill_char`\n",
    "\n",
    "### .rjust(width, fill_char)\n",
    "Right Justify\n",
    "* จัดวางตำแหน่งชิดขวาในพื้นที่ขนาด `width` โดยเติมช่องว่างด้วย `fill_char`\n",
    "\n",
    "> * `fill_char` ใส่ได้แค่ character เดียว\n",
    "> * default `fill_char` คือ space (' ')"
   ]
  },
  {
   "cell_type": "code",
   "execution_count": null,
   "metadata": {
    "collapsed": false
   },
   "outputs": [],
   "source": [
    "s = \"cs is computer science\"\n",
    "print('-' * 40)\n",
    "print(s.center(40))\n",
    "print(s.ljust(40))\n",
    "print(s.rjust(40))\n",
    "print('-' * 40)"
   ]
  },
  {
   "cell_type": "code",
   "execution_count": null,
   "metadata": {
    "collapsed": false,
    "scrolled": true
   },
   "outputs": [],
   "source": [
    "s = \"cs is computer science\"\n",
    "print('-' * 40)\n",
    "print(s.center(40, '-'))\n",
    "print(s.ljust(40, '-'))\n",
    "print(s.rjust(40, '-'))\n",
    "print('-' * 40)"
   ]
  },
  {
   "cell_type": "markdown",
   "metadata": {},
   "source": [
    "### .capitalize()\n",
    "* ทำให้ตัวอักษรตัวแรกเป็นตัวใหญ่ (Capitalized)"
   ]
  },
  {
   "cell_type": "code",
   "execution_count": null,
   "metadata": {
    "collapsed": false
   },
   "outputs": [],
   "source": [
    "s = \"cs is computer science\"\n",
    "print(s.capitalize())"
   ]
  },
  {
   "cell_type": "markdown",
   "metadata": {},
   "source": [
    "### .title()\n",
    "* ทำให้ตัวอักษรตัวแรกของแต่ละคำเป็นตัวใหญ่"
   ]
  },
  {
   "cell_type": "code",
   "execution_count": null,
   "metadata": {
    "collapsed": false
   },
   "outputs": [],
   "source": [
    "s = \"cs is computer science\"\n",
    "print(s.title())"
   ]
  },
  {
   "cell_type": "markdown",
   "metadata": {},
   "source": [
    "### .lower()\n",
    "* ทำให้ตัวอักษรทุกตัวใน String เป็นตัวเล็กทั้งหมด"
   ]
  },
  {
   "cell_type": "code",
   "execution_count": null,
   "metadata": {
    "collapsed": false
   },
   "outputs": [],
   "source": [
    "s = \"CS is Computer Science\"\n",
    "print(s.lower())"
   ]
  },
  {
   "cell_type": "markdown",
   "metadata": {},
   "source": [
    "### .upper()\n",
    "* ทำให้ตัวอักษรทุกตัวใน String เป็นตัวใหญ่ทั้งหมด"
   ]
  },
  {
   "cell_type": "code",
   "execution_count": null,
   "metadata": {
    "collapsed": false,
    "scrolled": true
   },
   "outputs": [],
   "source": [
    "s = \"CS is Computer Science\"\n",
    "print(s.upper())"
   ]
  },
  {
   "cell_type": "markdown",
   "metadata": {},
   "source": [
    "### .swapcase()\n",
    "Swap Case\n",
    "* ทำให้ตัวอักษรทุกตัวเปลี่ยน Case จากตัวเล็กเป็นตัวใหญ่ และจากตัวใหญ่เป็นตัวเล็ก"
   ]
  },
  {
   "cell_type": "code",
   "execution_count": null,
   "metadata": {
    "collapsed": false
   },
   "outputs": [],
   "source": [
    "s = \"CS is Computer Science\"\n",
    "print(s.swapcase())"
   ]
  },
  {
   "cell_type": "markdown",
   "metadata": {},
   "source": [
    "### .zfill(width)\n",
    "Zero Fill\n",
    "* เติม 0 หน้า String ให้เต็มความยาว `width`"
   ]
  },
  {
   "cell_type": "code",
   "execution_count": null,
   "metadata": {
    "collapsed": false,
    "scrolled": true
   },
   "outputs": [],
   "source": [
    "s = \"CS is Computer Science\"\n",
    "print(s.zfill(30))\n",
    "print(s.zfill(40))"
   ]
  },
  {
   "cell_type": "markdown",
   "metadata": {},
   "source": [
    "## ตรวจสอบ String"
   ]
  },
  {
   "cell_type": "markdown",
   "metadata": {},
   "source": [
    "### .isalnum()\n",
    "Is Alpha-Numeric ?\n",
    "* ตรวจสอบว่าทุกอักขระใน String เป็น alpha-numeric หรือไม่\n",
    "* alpha-numeric คือ alphabet (a-z, A-Z) และ numeric (0-9)\n",
    "* ถ้ามีอย่างน้อย 1 ตัวที่ไม่ใช่ จะให้ค่า `False`\n",
    "\n",
    "### .isalpha()\n",
    "Is Alphabet ?\n",
    "* ตรวจสอบว่าทุกอักขระใน String เป็น alphabet (a-z, A-Z) หรือไม่\n",
    "* ถ้ามีอย่างน้อย 1 ตัวที่ไม่ใช่ จะให้ค่า `False`\n",
    "\n",
    "### .isdigit()\n",
    "Is Digit ?\n",
    "* ตรวจสอบว่าทุกอักขระใน String เป็น digit (0-9) หรือไม่\n",
    "* ถ้ามีอย่างน้อย 1 ตัวที่ไม่ใช่ จะให้ค่า `False`"
   ]
  },
  {
   "cell_type": "code",
   "execution_count": null,
   "metadata": {
    "collapsed": false
   },
   "outputs": [],
   "source": [
    "s = \"CS is Computer Science\"\n",
    "print(s.isalnum())\n",
    "print(s.isalpha())\n",
    "print(s.isdigit())"
   ]
  },
  {
   "cell_type": "code",
   "execution_count": null,
   "metadata": {
    "collapsed": false
   },
   "outputs": [],
   "source": [
    "s = \"2016\"\n",
    "print(s.isalnum())\n",
    "print(s.isalpha())\n",
    "print(s.isdigit())"
   ]
  },
  {
   "cell_type": "code",
   "execution_count": null,
   "metadata": {
    "collapsed": false
   },
   "outputs": [],
   "source": [
    "s = \"Year2016\"\n",
    "print(s.isalnum())\n",
    "print(s.isalpha())\n",
    "print(s.isdigit())"
   ]
  },
  {
   "cell_type": "code",
   "execution_count": null,
   "metadata": {
    "collapsed": false
   },
   "outputs": [],
   "source": [
    "s = \"Year\"\n",
    "print(s.isalnum())\n",
    "print(s.isalpha())\n",
    "print(s.isdigit())"
   ]
  },
  {
   "cell_type": "code",
   "execution_count": null,
   "metadata": {
    "collapsed": false
   },
   "outputs": [],
   "source": [
    "s = \"20.16\"\n",
    "print(s.isalnum())\n",
    "print(s.isalpha())\n",
    "print(s.isdigit())"
   ]
  },
  {
   "cell_type": "markdown",
   "metadata": {},
   "source": [
    "### .isspace()\n",
    "Is Space ?\n",
    "* ตรวจสอบว่าทุกอักขระใน String เป็น space หรือไม่\n",
    "* ถ้ามีอย่างน้อย 1 ตัวที่ไม่ใช่ จะให้ค่า `False`"
   ]
  },
  {
   "cell_type": "code",
   "execution_count": null,
   "metadata": {
    "collapsed": false
   },
   "outputs": [],
   "source": [
    "s1 = \"   \"\n",
    "print(s1.isspace())\n",
    "\n",
    "s2 = \"CS is Computer Science\"\n",
    "print(s2.isspace())"
   ]
  },
  {
   "cell_type": "markdown",
   "metadata": {},
   "source": [
    "### .islower()\n",
    "Is Lowercase ?\n",
    "* ตรวจสอบว่าทุกอักขระใน String เป็น lowercase (ตัวเล็ก) หรือไม่\n",
    "\n",
    "### .isupper()\n",
    "Is Uppercase ?\n",
    "* ตรวจสอบว่าทุกอักขระใน String เป็น uppercase (ตัวใหญ่) หรือไม่\n",
    "\n",
    "> ไม่สนใจอักขระพิเศษ"
   ]
  },
  {
   "cell_type": "code",
   "execution_count": null,
   "metadata": {
    "collapsed": false
   },
   "outputs": [],
   "source": [
    "s = \"CS is Computer Science\"\n",
    "print(s.islower())\n",
    "print(s.isupper())"
   ]
  },
  {
   "cell_type": "code",
   "execution_count": null,
   "metadata": {
    "collapsed": false
   },
   "outputs": [],
   "source": [
    "s = \"cs is computer science\"\n",
    "print(s.islower())\n",
    "print(s.isupper())"
   ]
  },
  {
   "cell_type": "code",
   "execution_count": null,
   "metadata": {
    "collapsed": false
   },
   "outputs": [],
   "source": [
    "s = \"CS IS COMPUTER SCIENCE\"\n",
    "print(s.islower())\n",
    "print(s.isupper())"
   ]
  },
  {
   "cell_type": "code",
   "execution_count": null,
   "metadata": {
    "collapsed": false
   },
   "outputs": [],
   "source": [
    "s = \"CS IS COMPUTER-SCIENCE?\"\n",
    "print(s.islower())\n",
    "print(s.isupper())"
   ]
  },
  {
   "cell_type": "code",
   "execution_count": null,
   "metadata": {
    "collapsed": false
   },
   "outputs": [],
   "source": [
    "s = \"cs is computer-science?\"\n",
    "print(s.islower())\n",
    "print(s.isupper())"
   ]
  }
 ],
 "metadata": {
  "kernelspec": {
   "display_name": "Python 3",
   "language": "python",
   "name": "python3"
  },
  "language_info": {
   "codemirror_mode": {
    "name": "ipython",
    "version": 3
   },
   "file_extension": ".py",
   "mimetype": "text/x-python",
   "name": "python",
   "nbconvert_exporter": "python",
   "pygments_lexer": "ipython3",
   "version": "3.5.2"
  }
 },
 "nbformat": 4,
 "nbformat_minor": 0
}
