{
 "cells": [
  {
   "cell_type": "markdown",
   "metadata": {},
   "source": [
    "# Table of Contents\n",
    "* การเพิ่มข้อมูลใน List\n",
    "* การลบข้อมูลใน List\n",
    "* การเรียงลำดับข้อมูลใน List\n",
    "* การนับจำนวนข้อมูลใน List\n",
    "* List Slicing\n",
    "* การตรวจสอบข้อมูลใน List"
   ]
  },
  {
   "cell_type": "markdown",
   "metadata": {},
   "source": [
    "# List Functions 2"
   ]
  },
  {
   "cell_type": "markdown",
   "metadata": {},
   "source": [
    "# การเพิ่มข้อมูลใน List\n",
    "\n",
    "|List Function|คำอธิบาย|ตัวอย่างการใช้งาน เมื่อ <br> ls = [1, 2, 3, 4]|\n",
    "|---------------|------------|---------|\n",
    "|list.append(data)|เพิ่ม data ไปใน List| `ls.append(10)`|\n",
    "|list.insert(index, data)|แทรก data ไปใน List ในตำแหน่ง index| `ls.insert(2, 20)`|"
   ]
  },
  {
   "cell_type": "code",
   "execution_count": null,
   "metadata": {
    "collapsed": false
   },
   "outputs": [],
   "source": [
    "ls = [1, 2, 3, 4]\n",
    "ls.append('|')\n",
    "\n",
    "i = 1\n",
    "while (i <= 10):\n",
    "    ls.append(i)\n",
    "    i += 1\n",
    "print(ls)"
   ]
  },
  {
   "cell_type": "code",
   "execution_count": null,
   "metadata": {
    "collapsed": false
   },
   "outputs": [],
   "source": [
    "ls = list(range(10))\n",
    "print(ls)\n",
    "ls.insert(4, 'X')\n",
    "print(ls)"
   ]
  },
  {
   "cell_type": "markdown",
   "metadata": {},
   "source": [
    "# การลบข้อมูลใน List\n",
    "\n",
    "|List Function|คำอธิบาย|ตัวอย่างการใช้งาน เมื่อ <br> ls = [1, 2, 3, 4]|\n",
    "|---------------|------------|---------|\n",
    "|list.pop()|ดึงข้อมูลตัวสุดท้ายออกไปจาก List <br> และคืนค่าข้อมูลนั้น| `data = ls.pop()`|\n",
    "|list.pop(index)|ดึงข้อมูลตำแหน่ง index ออกไปจาก List <br> และคืนค่าข้อมูลนั้น| `data = ls.pop(1)`|\n",
    "|list.remove(data)|ลบข้อมูล data ตัวแรกที่เจอใน List ออกไปจาก List| `ls.remove(2)`|"
   ]
  },
  {
   "cell_type": "code",
   "execution_count": null,
   "metadata": {
    "collapsed": false
   },
   "outputs": [],
   "source": [
    "ls = ['Alex', 'Alan', 'Alkine', 'Alkane', 'Alkene', 'Alcohol', 'Alien']\n",
    "the_last = ls.pop()\n",
    "print(\"The last element:\", the_last)\n",
    "print(\"Remaining ls:\", ls)"
   ]
  },
  {
   "cell_type": "code",
   "execution_count": null,
   "metadata": {
    "collapsed": false,
    "scrolled": true
   },
   "outputs": [],
   "source": [
    "ls = ['Alex', 'Alan', 'Alkine', 'Alkane', 'Alkene', 'Alcohol', 'Alien']\n",
    "print(ls.pop(3))\n",
    "print(\"Remaining ls:\", ls)"
   ]
  },
  {
   "cell_type": "code",
   "execution_count": null,
   "metadata": {
    "collapsed": false
   },
   "outputs": [],
   "source": [
    "ls = ['Alex', 'Alan', 'Alkine', 'Alkane', 'Alkene', 'Alcohol', 'Alien']\n",
    "ls.remove('Alex')\n",
    "print(ls)"
   ]
  },
  {
   "cell_type": "code",
   "execution_count": null,
   "metadata": {
    "collapsed": false
   },
   "outputs": [],
   "source": [
    "ls = [7, 6, 5, 4, 7, 6, 5, 4, 7, 6, 5, 4]\n",
    "ls.remove(6)\n",
    "print(ls)"
   ]
  },
  {
   "cell_type": "markdown",
   "metadata": {},
   "source": [
    "# การเรียงลำดับข้อมูลใน List\n",
    "\n",
    "|List Function|คำอธิบาย|ตัวอย่างการใช้งาน เมื่อ <br> ls = [3, 4, 1, 2]|\n",
    "|---------------|------------|---------|\n",
    "|list.sort()|เรียงลำดับ List ใหม่ จากค่าน้อยไปค่ามาก| `ls.sort()`|\n",
    "|list.sort(reverse=True)|เรียงลำดับ List ใหม่ จากค่ามากไปค่าน้อย| `ls.sort(reverse=True)`|\n",
    "|list.reverse()|สลับลำดับจากท้ายสุดขึ้นก่อน| `ls.reverse()`|"
   ]
  },
  {
   "cell_type": "code",
   "execution_count": null,
   "metadata": {
    "collapsed": false
   },
   "outputs": [],
   "source": [
    "ls = [3, 4, 1, 2]\n",
    "print(\"before sort:\", ls)\n",
    "ls.sort()\n",
    "print(\"after sort:\", ls)"
   ]
  },
  {
   "cell_type": "code",
   "execution_count": null,
   "metadata": {
    "collapsed": false
   },
   "outputs": [],
   "source": [
    "ls = [3, 4, 1, 2]\n",
    "print(\"before sort:\", ls)\n",
    "ls.sort(reverse=True)\n",
    "print(\"after sort:\", ls)"
   ]
  },
  {
   "cell_type": "code",
   "execution_count": null,
   "metadata": {
    "collapsed": false
   },
   "outputs": [],
   "source": [
    "ls = ['Alex', 'Alan', 'Alkine', 'Alkane', 'Alkene', 'Alcohol', 'Alien']\n",
    "ls.sort()\n",
    "print(\"sort:\", ls)"
   ]
  },
  {
   "cell_type": "code",
   "execution_count": null,
   "metadata": {
    "collapsed": false
   },
   "outputs": [],
   "source": [
    "# List ที่จะ sort ได้ ต้องมี Type เหมือนกัน\n",
    "ls = [3, 4, 1, 2, '3', '4', '1', '2']\n",
    "ls.sort()\n",
    "print(ls)"
   ]
  },
  {
   "cell_type": "code",
   "execution_count": null,
   "metadata": {
    "collapsed": false
   },
   "outputs": [],
   "source": [
    "ls = ['Alex', 'Alan', 'Alkine', 'Alkane', 'Alkene', 'Alcohol', 'Alien']\n",
    "ls.reverse()\n",
    "print(\"reverse:\", ls)"
   ]
  },
  {
   "cell_type": "code",
   "execution_count": null,
   "metadata": {
    "collapsed": false
   },
   "outputs": [],
   "source": [
    "ls = ['Alex', 'Alan', 'Alkine', 'Alkane', 'Alkene', 'Alcohol', 'Alien']\n",
    "# ใช้เป็น chaining ไม่ได้\n",
    "ls.sort().reverse()\n",
    "print(ls)"
   ]
  },
  {
   "cell_type": "code",
   "execution_count": null,
   "metadata": {
    "collapsed": false
   },
   "outputs": [],
   "source": [
    "ls = ['Alex', 'Alan', 'Alkine', 'Alkane', 'Alkene', 'Alcohol', 'Alien']\n",
    "ls.sort()\n",
    "ls.reverse()\n",
    "print(ls)"
   ]
  },
  {
   "cell_type": "markdown",
   "metadata": {},
   "source": [
    "# การนับจำนวนข้อมูลใน List\n",
    "\n",
    "|List Function|คำอธิบาย|ตัวอย่างการใช้งาน เมื่อ <br> ls = [1, 1, 2, 3, 4]|\n",
    "|---------------|------------|---------|\n",
    "|list.count(data)|คืนค่าจำนวน data ใน List| `count = ls.count(1)`|\n",
    "|len(list)|คืนค่าจำนวนข้อมูลใน List|`count = len(ls)`|"
   ]
  },
  {
   "cell_type": "code",
   "execution_count": null,
   "metadata": {
    "collapsed": false,
    "scrolled": true
   },
   "outputs": [],
   "source": [
    "ls = [6, 6, 6, 6, 6, 6, 6, 6, 7, 7, 7, 7, 7, 7, 7, 7, 7, 7]\n",
    "print(\"Total elements in ls:\", len(ls))\n",
    "print(\"Total 6 in ls:\", ls.count(6))\n",
    "print(\"Total 7 in ls:\", ls.count(7))"
   ]
  },
  {
   "cell_type": "markdown",
   "metadata": {},
   "source": [
    "# List Slicing\n",
    "* list_variable[start:end:step]\n",
    "* เป็นการสร้าง List ใหม่ จาก List เดิม"
   ]
  },
  {
   "cell_type": "code",
   "execution_count": null,
   "metadata": {
    "collapsed": false
   },
   "outputs": [],
   "source": [
    "numbers = list(range(20))\n",
    "print(numbers)"
   ]
  },
  {
   "cell_type": "code",
   "execution_count": null,
   "metadata": {
    "collapsed": false
   },
   "outputs": [],
   "source": [
    "print(numbers[0:10:1])"
   ]
  },
  {
   "cell_type": "code",
   "execution_count": null,
   "metadata": {
    "collapsed": false
   },
   "outputs": [],
   "source": [
    "print(numbers[0:10:2])"
   ]
  },
  {
   "cell_type": "code",
   "execution_count": null,
   "metadata": {
    "collapsed": false
   },
   "outputs": [],
   "source": [
    "print(numbers[7:-3:3])"
   ]
  },
  {
   "cell_type": "code",
   "execution_count": null,
   "metadata": {
    "collapsed": false
   },
   "outputs": [],
   "source": [
    "print(numbers[-1:1:-1])"
   ]
  },
  {
   "cell_type": "markdown",
   "metadata": {},
   "source": [
    "* default step = 1"
   ]
  },
  {
   "cell_type": "code",
   "execution_count": null,
   "metadata": {
    "collapsed": false
   },
   "outputs": [],
   "source": [
    "print(numbers[0:7])"
   ]
  },
  {
   "cell_type": "code",
   "execution_count": null,
   "metadata": {
    "collapsed": false
   },
   "outputs": [],
   "source": [
    "print(numbers[12:len(numbers) -2])"
   ]
  },
  {
   "cell_type": "code",
   "execution_count": null,
   "metadata": {
    "collapsed": false
   },
   "outputs": [],
   "source": [
    "print(numbers[len(numbers) - 10:len(numbers) -3])"
   ]
  },
  {
   "cell_type": "markdown",
   "metadata": {},
   "source": [
    "* default start = 0"
   ]
  },
  {
   "cell_type": "code",
   "execution_count": null,
   "metadata": {
    "collapsed": false
   },
   "outputs": [],
   "source": [
    "print(numbers[:5])"
   ]
  },
  {
   "cell_type": "markdown",
   "metadata": {},
   "source": [
    "* default end = จำนวนข้อมูลใน List นั้น"
   ]
  },
  {
   "cell_type": "code",
   "execution_count": null,
   "metadata": {
    "collapsed": false
   },
   "outputs": [],
   "source": [
    "print(numbers[5:])"
   ]
  },
  {
   "cell_type": "code",
   "execution_count": null,
   "metadata": {
    "collapsed": false
   },
   "outputs": [],
   "source": [
    "print(numbers[::2])"
   ]
  },
  {
   "cell_type": "markdown",
   "metadata": {},
   "source": [
    "* List เป็น Reference Type\n",
    "* การ Slice List เป็นการสร้าง List ใหม่"
   ]
  },
  {
   "cell_type": "code",
   "execution_count": null,
   "metadata": {
    "collapsed": false
   },
   "outputs": [],
   "source": [
    "numbers = [0, 1, 2, 3, 4, 5]\n",
    "numbers2 = numbers\n",
    "numbers2.append(6)\n",
    "print(numbers)\n",
    "print(numbers2)\n",
    "\n",
    "print('-' * 30)\n",
    "\n",
    "numbers = [0, 1, 2, 3, 4, 5]\n",
    "numbers2 = numbers[:]\n",
    "numbers2.append(6)\n",
    "print(numbers)\n",
    "print(numbers2)"
   ]
  },
  {
   "cell_type": "markdown",
   "metadata": {},
   "source": [
    "# การตรวจสอบข้อมูลใน List\n",
    "* if data in list\n",
    "* if data not in list"
   ]
  },
  {
   "cell_type": "code",
   "execution_count": null,
   "metadata": {
    "collapsed": false
   },
   "outputs": [],
   "source": [
    "numbers = list(range(15, 21, 2))\n",
    "print(21 in numbers)"
   ]
  },
  {
   "cell_type": "code",
   "execution_count": null,
   "metadata": {
    "collapsed": false
   },
   "outputs": [],
   "source": [
    "numbers = [0, 1, 2, 3, 4, 5]\n",
    "print(5 not in numbers[0:5])"
   ]
  },
  {
   "cell_type": "code",
   "execution_count": null,
   "metadata": {
    "collapsed": false
   },
   "outputs": [],
   "source": [
    "choice = input(\"Enter choice (a, A, b, B, c, C): \")\n",
    "available_choices = ['a', 'A', 'b', 'B', 'c', 'C']\n",
    "if choice not in available_choices:\n",
    "    print(\":X: You enter the invalid choice.\")\n",
    "    print(\":X: Please enter only one in this list:\", available_choices)\n",
    "else:\n",
    "    if choice in ['a', 'A']:\n",
    "        print(\"You select menu A\")\n",
    "    elif choice in ['b', 'B']:\n",
    "        print(\"You select menu B\")\n",
    "    else:\n",
    "        print(\"You select menu C\")"
   ]
  }
 ],
 "metadata": {
  "kernelspec": {
   "display_name": "Python 3",
   "language": "python",
   "name": "python3"
  },
  "language_info": {
   "codemirror_mode": {
    "name": "ipython",
    "version": 3
   },
   "file_extension": ".py",
   "mimetype": "text/x-python",
   "name": "python",
   "nbconvert_exporter": "python",
   "pygments_lexer": "ipython3",
   "version": "3.5.2"
  }
 },
 "nbformat": 4,
 "nbformat_minor": 0
}
