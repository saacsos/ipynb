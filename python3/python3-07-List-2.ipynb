{
 "cells": [
  {
   "cell_type": "markdown",
   "metadata": {},
   "source": [
    "# List Method"
   ]
  },
  {
   "cell_type": "markdown",
   "metadata": {},
   "source": [
    "# Table of Contents\n",
    "* การเพิ่มข้อมูลใน List\n",
    "* การลบข้อมูลใน List\n",
    "* การเรียงลำดับข้อมูลใน List\n",
    "* การค้นหาข้อมูลใน List\n",
    "* List Slicing\n",
    "* Sequence Assignment\n",
    "* การตรวจสอบข้อมูลใน List\n",
    "* ค่าความจริงของ Object\n",
    "* การเปรียบเทียบ List\n",
    "* List Copying"
   ]
  },
  {
   "cell_type": "markdown",
   "metadata": {},
   "source": [
    "# การเพิ่มข้อมูลใน List\n",
    "\n",
    "|List Method|คำอธิบาย|ตัวอย่างการใช้งาน เมื่อ <br> ls = [1, 2, 3, 4]|\n",
    "|---------------|------------|---------|\n",
    "|list.append(data)|เพิ่ม data ไปต่อท้าย List| `ls.append(10)`|\n",
    "|list.extend(list)|นำ List ไปต่อท้าย List| `ls.extend([10, 20])`|\n",
    "|list.insert(index, data)|แทรก data ไปใน List ในตำแหน่ง index| `ls.insert(2, 20)`|"
   ]
  },
  {
   "cell_type": "code",
   "execution_count": null,
   "metadata": {
    "collapsed": false
   },
   "outputs": [],
   "source": [
    "ls = [1, 2, 3, 4]\n",
    "ls.append('|')\n",
    "\n",
    "i = 1\n",
    "while (i <= 10):\n",
    "    ls.append(i)\n",
    "    i += 1\n",
    "print(ls)"
   ]
  },
  {
   "cell_type": "code",
   "execution_count": null,
   "metadata": {
    "collapsed": true
   },
   "outputs": [],
   "source": [
    "ls = [1, 2, 3, 4]\n",
    "ls.extend([10, 20])\n",
    "print(ls)"
   ]
  },
  {
   "cell_type": "code",
   "execution_count": null,
   "metadata": {
    "collapsed": false
   },
   "outputs": [],
   "source": [
    "# เปรียบเทียบ extend และ +\n",
    "ls = [1, 2, 3, 4]\n",
    "print(ls + [10, 20])  # ได้ List ใหม่ โดย List เดิมไม่เปลี่ยนแปลง\n",
    "print(ls)"
   ]
  },
  {
   "cell_type": "code",
   "execution_count": null,
   "metadata": {
    "collapsed": false
   },
   "outputs": [],
   "source": [
    "ls = list(range(10))\n",
    "print(ls)\n",
    "ls.insert(4, 'X')\n",
    "print(ls)"
   ]
  },
  {
   "cell_type": "markdown",
   "metadata": {},
   "source": [
    "# การลบข้อมูลใน List\n",
    "\n",
    "|List Method|คำอธิบาย|ตัวอย่างการใช้งาน เมื่อ <br> ls = [1, 2, 3, 4]|\n",
    "|---------------|------------|---------|\n",
    "|list.pop()|ดึงข้อมูลตัวสุดท้ายออกไปจาก List <br> และคืนค่าข้อมูลนั้น| `data = ls.pop()`|\n",
    "|list.pop(index)|ดึงข้อมูลตำแหน่ง index ออกไปจาก List <br> และคืนค่าข้อมูลนั้น| `data = ls.pop(1)`|\n",
    "|list.remove(data)|ลบข้อมูล data ตัวแรกที่เจอใน List ออกไปจาก List| `ls.remove(2)`|"
   ]
  },
  {
   "cell_type": "code",
   "execution_count": null,
   "metadata": {
    "collapsed": false
   },
   "outputs": [],
   "source": [
    "ls = ['Alex', 'Alan', 'Alkine', 'Alkane', 'Alkene', 'Alcohol', 'Alien']\n",
    "the_last = ls.pop()\n",
    "print(\"The last element:\", the_last)\n",
    "print(\"Remaining ls:\", ls)"
   ]
  },
  {
   "cell_type": "code",
   "execution_count": null,
   "metadata": {
    "collapsed": false,
    "scrolled": true
   },
   "outputs": [],
   "source": [
    "ls = ['Alex', 'Alan', 'Alkine', 'Alkane', 'Alkene', 'Alcohol', 'Alien']\n",
    "print(ls.pop(3))\n",
    "print(\"Remaining ls:\", ls)"
   ]
  },
  {
   "cell_type": "code",
   "execution_count": null,
   "metadata": {
    "collapsed": false
   },
   "outputs": [],
   "source": [
    "ls = ['Alex', 'Alan', 'Alkine', 'Alkane', 'Alkene', 'Alcohol', 'Alien']\n",
    "ls.remove('Alex')\n",
    "print(ls)"
   ]
  },
  {
   "cell_type": "code",
   "execution_count": null,
   "metadata": {
    "collapsed": false
   },
   "outputs": [],
   "source": [
    "ls = [7, 6, 5, 4, 7, 6, 5, 4, 7, 6, 5, 4]\n",
    "ls.remove(6)  # remove ตัวแรกเท่านั้น\n",
    "print(ls)"
   ]
  },
  {
   "cell_type": "code",
   "execution_count": null,
   "metadata": {
    "collapsed": false
   },
   "outputs": [],
   "source": [
    "# remove สมาชิกที่ไม่อยู่ใน List จะ Error\n",
    "ls = [7, 6, 5, 4, 7, 6, 5, 4, 7, 6, 5, 4]\n",
    "ls.remove(100)\n",
    "print(ls)"
   ]
  },
  {
   "cell_type": "markdown",
   "metadata": {},
   "source": [
    "# การเรียงลำดับข้อมูลใน List\n",
    "\n",
    "|List Method|คำอธิบาย|ตัวอย่างการใช้งาน เมื่อ <br> ls = [3, 4, 1, 2]|\n",
    "|---------------|------------|---------|\n",
    "|list.sort()|เรียงลำดับ List ใหม่ จากค่าน้อยไปค่ามาก| `ls.sort()`|\n",
    "|list.sort(reverse=True)|เรียงลำดับ List ใหม่ จากค่ามากไปค่าน้อย| `ls.sort(reverse=True)`|\n",
    "|list.reverse()|สลับลำดับจากท้ายสุดขึ้นก่อน| `ls.reverse()`|"
   ]
  },
  {
   "cell_type": "code",
   "execution_count": null,
   "metadata": {
    "collapsed": false
   },
   "outputs": [],
   "source": [
    "ls = [3, 4, 1, 2]\n",
    "print(\"before sort:\", ls)\n",
    "ls.sort()\n",
    "print(\"after sort:\", ls)"
   ]
  },
  {
   "cell_type": "code",
   "execution_count": null,
   "metadata": {
    "collapsed": false
   },
   "outputs": [],
   "source": [
    "ls = [3, 4, 1, 2]\n",
    "print(\"before sort:\", ls)\n",
    "ls.sort(reverse=True)\n",
    "print(\"after sort:\", ls)"
   ]
  },
  {
   "cell_type": "code",
   "execution_count": null,
   "metadata": {
    "collapsed": false
   },
   "outputs": [],
   "source": [
    "ls = ['Alex', 'Alan', 'Alkine', 'Alkane', 'Alkene', 'Alcohol', 'Alien']\n",
    "ls.sort()\n",
    "print(\"sort:\", ls)"
   ]
  },
  {
   "cell_type": "code",
   "execution_count": null,
   "metadata": {
    "collapsed": false
   },
   "outputs": [],
   "source": [
    "# List ที่จะ sort ได้ ต้องมี Type เหมือนกัน\n",
    "ls = [3, 4, 1, 2, '3', '4', '1', '2']\n",
    "ls.sort()\n",
    "print(ls)"
   ]
  },
  {
   "cell_type": "code",
   "execution_count": null,
   "metadata": {
    "collapsed": false
   },
   "outputs": [],
   "source": [
    "ls = ['Alex', 'Alan', 'Alkine', 'Alkane', 'Alkene', 'Alcohol', 'Alien']\n",
    "ls.reverse()\n",
    "print(\"reverse:\", ls)"
   ]
  },
  {
   "cell_type": "code",
   "execution_count": null,
   "metadata": {
    "collapsed": false
   },
   "outputs": [],
   "source": [
    "ls = ['Alex', 'Alan', 'Alkine', 'Alkane', 'Alkene', 'Alcohol', 'Alien']\n",
    "# ใช้เป็น chaining ไม่ได้\n",
    "ls.sort().reverse()\n",
    "print(ls)"
   ]
  },
  {
   "cell_type": "code",
   "execution_count": null,
   "metadata": {
    "collapsed": false
   },
   "outputs": [],
   "source": [
    "ls = ['Alex', 'Alan', 'Alkine', 'Alkane', 'Alkene', 'Alcohol', 'Alien']\n",
    "ls.sort()\n",
    "ls.reverse()\n",
    "print(ls)"
   ]
  },
  {
   "cell_type": "markdown",
   "metadata": {},
   "source": [
    "# การค้นหาข้อมูลใน List\n",
    "\n",
    "|List Method/Function|คำอธิบาย|ตัวอย่างการใช้งาน เมื่อ <br> ls = [1, 1, 2, 3, 4]|\n",
    "|---------------|------------|---------|\n",
    "|list.count(data)|คืนค่าจำนวน data ใน List| `count = ls.count(1)`|\n",
    "|len(list)|คืนค่าจำนวนข้อมูลใน List|`count = len(ls)`|\n",
    "|list.index(data)|คืนค่า index ของ data ตัวแรก|`index = ls.index(2)`|"
   ]
  },
  {
   "cell_type": "code",
   "execution_count": null,
   "metadata": {
    "collapsed": false,
    "scrolled": true
   },
   "outputs": [],
   "source": [
    "ls = [6, 6, 6, 6, 6, 6, 6, 6, 7, 7, 7, 7, 7, 7, 7, 7, 7, 7]\n",
    "print(\"Total elements in ls:\", len(ls))\n",
    "print(\"Total 6 in ls:\", ls.count(6))\n",
    "print(\"Total 7 in ls:\", ls.count(7))\n",
    "print(\"Total 8 in ls:\", ls.count(8))\n",
    "print(\"ls:\", ls)"
   ]
  },
  {
   "cell_type": "code",
   "execution_count": null,
   "metadata": {
    "collapsed": false
   },
   "outputs": [],
   "source": [
    "ls = [3, 5, 7, 9]\n",
    "ls.index(3)\n",
    "# ls.index(10)  # ค้นหา index ของข้อมูลที่ไม่มีใน List => Error"
   ]
  },
  {
   "cell_type": "markdown",
   "metadata": {},
   "source": [
    "# List Slicing\n",
    "* list_variable[start:end:step]\n",
    "* เป็นการสร้าง List ใหม่ จาก List เดิม"
   ]
  },
  {
   "cell_type": "code",
   "execution_count": null,
   "metadata": {
    "collapsed": false
   },
   "outputs": [],
   "source": [
    "numbers = list(range(20))\n",
    "print(numbers)"
   ]
  },
  {
   "cell_type": "code",
   "execution_count": null,
   "metadata": {
    "collapsed": false
   },
   "outputs": [],
   "source": [
    "print(numbers[0:10:1])"
   ]
  },
  {
   "cell_type": "code",
   "execution_count": null,
   "metadata": {
    "collapsed": false
   },
   "outputs": [],
   "source": [
    "print(numbers[0:10:2])"
   ]
  },
  {
   "cell_type": "code",
   "execution_count": null,
   "metadata": {
    "collapsed": false
   },
   "outputs": [],
   "source": [
    "print(numbers[7:-3:3])"
   ]
  },
  {
   "cell_type": "code",
   "execution_count": null,
   "metadata": {
    "collapsed": false
   },
   "outputs": [],
   "source": [
    "print(numbers[-1:1:-1])"
   ]
  },
  {
   "cell_type": "markdown",
   "metadata": {},
   "source": [
    "* default step = 1"
   ]
  },
  {
   "cell_type": "code",
   "execution_count": null,
   "metadata": {
    "collapsed": false
   },
   "outputs": [],
   "source": [
    "print(numbers[0:7])"
   ]
  },
  {
   "cell_type": "code",
   "execution_count": null,
   "metadata": {
    "collapsed": false
   },
   "outputs": [],
   "source": [
    "print(numbers[12:len(numbers) -2])"
   ]
  },
  {
   "cell_type": "code",
   "execution_count": null,
   "metadata": {
    "collapsed": false
   },
   "outputs": [],
   "source": [
    "print(numbers[len(numbers) - 10:len(numbers) -3])"
   ]
  },
  {
   "cell_type": "markdown",
   "metadata": {},
   "source": [
    "* default start = 0"
   ]
  },
  {
   "cell_type": "code",
   "execution_count": null,
   "metadata": {
    "collapsed": false
   },
   "outputs": [],
   "source": [
    "print(numbers[:5])"
   ]
  },
  {
   "cell_type": "markdown",
   "metadata": {},
   "source": [
    "* default end = จำนวนข้อมูลใน List นั้น"
   ]
  },
  {
   "cell_type": "code",
   "execution_count": null,
   "metadata": {
    "collapsed": false
   },
   "outputs": [],
   "source": [
    "print(numbers[5:])"
   ]
  },
  {
   "cell_type": "code",
   "execution_count": null,
   "metadata": {
    "collapsed": false
   },
   "outputs": [],
   "source": [
    "print(numbers[::2])"
   ]
  },
  {
   "cell_type": "markdown",
   "metadata": {},
   "source": [
    "* List เป็น Reference Type\n",
    "* การ Slice List เป็นการสร้าง List ใหม่"
   ]
  },
  {
   "cell_type": "code",
   "execution_count": null,
   "metadata": {
    "collapsed": false
   },
   "outputs": [],
   "source": [
    "numbers = [0, 1, 2, 3, 4, 5]\n",
    "numbers2 = numbers\n",
    "numbers2.append(6)\n",
    "print(numbers)\n",
    "print(numbers2)\n",
    "\n",
    "print('-' * 30)\n",
    "\n",
    "numbers = [0, 1, 2, 3, 4, 5]\n",
    "numbers2 = numbers[:]\n",
    "numbers2.append(6)\n",
    "print(numbers)\n",
    "print(numbers2)"
   ]
  },
  {
   "cell_type": "markdown",
   "metadata": {},
   "source": [
    "# Sequence Assignment\n",
    "### สามารถนำค่าจาก List มาใส่ตัวแปรใน Sequence ได้\n",
    "* จำนวนตัวแปรต้องเท่ากับจำนวนสมาชิกใน List"
   ]
  },
  {
   "cell_type": "code",
   "execution_count": null,
   "metadata": {
    "collapsed": false
   },
   "outputs": [],
   "source": [
    "[i, j] = [0, 1]\n",
    "print(\"i:\", i)\n",
    "print(\"j:\", j)"
   ]
  },
  {
   "cell_type": "code",
   "execution_count": null,
   "metadata": {
    "collapsed": false
   },
   "outputs": [],
   "source": [
    "ls = ['a', 'b', 'c', 'd', 'e', 'f']\n",
    "[i, j] = ls[1:5:2]\n",
    "print(\"i:\", i)\n",
    "print(\"j:\", j)"
   ]
  },
  {
   "cell_type": "markdown",
   "metadata": {},
   "source": [
    "### นำ List มาเปลี่ยนค่าของ Slice\n",
    "* มีการเปลี่ยนแปลงใน List เดิม\n",
    "* Slice กับ List ทางขวา ไม่ต้องเท่ากัน"
   ]
  },
  {
   "cell_type": "code",
   "execution_count": null,
   "metadata": {
    "collapsed": true
   },
   "outputs": [],
   "source": [
    "ls = ['a', 'b', 'c', 'd', 'e', 'f']\n",
    "ls[2:4] = ['x', 'y']\n",
    "print(ls)"
   ]
  },
  {
   "cell_type": "code",
   "execution_count": null,
   "metadata": {
    "collapsed": true
   },
   "outputs": [],
   "source": [
    "ls = ['a', 'b', 'c', 'd', 'e', 'f']\n",
    "ls[2:3] = []\n",
    "print(ls)"
   ]
  },
  {
   "cell_type": "markdown",
   "metadata": {},
   "source": [
    "# การตรวจสอบข้อมูลใน List\n",
    "* if data in list\n",
    "* if data not in list"
   ]
  },
  {
   "cell_type": "code",
   "execution_count": null,
   "metadata": {
    "collapsed": false
   },
   "outputs": [],
   "source": [
    "numbers = list(range(15, 21, 2))\n",
    "print(21 in numbers)"
   ]
  },
  {
   "cell_type": "code",
   "execution_count": null,
   "metadata": {
    "collapsed": false
   },
   "outputs": [],
   "source": [
    "numbers = [0, 1, 2, 3, 4, 5]\n",
    "print(5 not in numbers[0:5])"
   ]
  },
  {
   "cell_type": "code",
   "execution_count": null,
   "metadata": {
    "collapsed": false
   },
   "outputs": [],
   "source": [
    "choice = input(\"Enter choice (a, A, b, B, c, C): \")\n",
    "available_choices = ['a', 'A', 'b', 'B', 'c', 'C']\n",
    "if choice not in available_choices:\n",
    "    print(\"You enter the invalid choice.\")\n",
    "    print(\"Please enter only one in this list:\", available_choices)\n",
    "else:\n",
    "    if choice in ['a', 'A']:\n",
    "        print(\"You select menu A\")\n",
    "    elif choice in ['b', 'B']:\n",
    "        print(\"You select menu B\")\n",
    "    else:\n",
    "        print(\"You select menu C\")"
   ]
  },
  {
   "cell_type": "markdown",
   "metadata": {},
   "source": [
    "# ค่าความจริงของ Object\n",
    "\n",
    "* ทุกอย่างใน Python ล้วนเป็น Object\n",
    "* ทุก Object ใน python มีค่าความจริงเสมอ\n",
    "\n",
    "** ตรวจสอบค่าความจริงของ Object ด้วย ฟังก์ชัน bool() **"
   ]
  },
  {
   "cell_type": "markdown",
   "metadata": {},
   "source": [
    "### ค่าความจริงของ Number\n",
    "* ตัวเลขเป็นจริงเมื่อมีค่าไม่เท่ากับ 0"
   ]
  },
  {
   "cell_type": "code",
   "execution_count": null,
   "metadata": {
    "collapsed": true
   },
   "outputs": [],
   "source": [
    "print(bool(10))"
   ]
  },
  {
   "cell_type": "code",
   "execution_count": null,
   "metadata": {
    "collapsed": true
   },
   "outputs": [],
   "source": [
    "print(bool(0))"
   ]
  },
  {
   "cell_type": "code",
   "execution_count": null,
   "metadata": {
    "collapsed": true
   },
   "outputs": [],
   "source": [
    "print(bool(-10.1))"
   ]
  },
  {
   "cell_type": "code",
   "execution_count": null,
   "metadata": {
    "collapsed": false
   },
   "outputs": [],
   "source": [
    "if 0:\n",
    "    print(\"0 is true\")\n",
    "else:\n",
    "    print(\"0 is false\")"
   ]
  },
  {
   "cell_type": "code",
   "execution_count": null,
   "metadata": {
    "collapsed": false
   },
   "outputs": [],
   "source": [
    "if -1:\n",
    "    print(\"-1 is true\")\n",
    "else:\n",
    "    print(\"-1 is false\")"
   ]
  },
  {
   "cell_type": "markdown",
   "metadata": {},
   "source": [
    "### ค่าความจริงของ List\n",
    "* List เป็นจริงเมื่อมีสมาชิกใน List"
   ]
  },
  {
   "cell_type": "code",
   "execution_count": null,
   "metadata": {
    "collapsed": true
   },
   "outputs": [],
   "source": [
    "print(bool([]))"
   ]
  },
  {
   "cell_type": "code",
   "execution_count": null,
   "metadata": {
    "collapsed": true
   },
   "outputs": [],
   "source": [
    "print(bool([0]))"
   ]
  },
  {
   "cell_type": "code",
   "execution_count": null,
   "metadata": {
    "collapsed": true
   },
   "outputs": [],
   "source": [
    "print(bool([10, 20, 30, 40]))"
   ]
  },
  {
   "cell_type": "code",
   "execution_count": null,
   "metadata": {
    "collapsed": false
   },
   "outputs": [],
   "source": [
    "ls = [10, 20, 30, 40]\n",
    "while ls:\n",
    "    print(ls.pop())"
   ]
  },
  {
   "cell_type": "markdown",
   "metadata": {},
   "source": [
    "### ค่าความจริงของ String\n",
    "* String เป็นจริงเมื่อ String ไม่ว่าง"
   ]
  },
  {
   "cell_type": "code",
   "execution_count": null,
   "metadata": {
    "collapsed": true
   },
   "outputs": [],
   "source": [
    "print(bool('a'))"
   ]
  },
  {
   "cell_type": "code",
   "execution_count": null,
   "metadata": {
    "collapsed": true
   },
   "outputs": [],
   "source": [
    "print(bool(\"non empty string\"))"
   ]
  },
  {
   "cell_type": "code",
   "execution_count": null,
   "metadata": {
    "collapsed": true
   },
   "outputs": [],
   "source": [
    "print(bool(\"\"))"
   ]
  },
  {
   "cell_type": "code",
   "execution_count": null,
   "metadata": {
    "collapsed": false
   },
   "outputs": [],
   "source": [
    "string = input(\"Enter String:\")\n",
    "if string:\n",
    "    print(\"Your string '%s' is not empty\" % string)\n",
    "else:\n",
    "    print(\"Your string '%s' is empty\" % string)"
   ]
  },
  {
   "cell_type": "markdown",
   "metadata": {},
   "source": [
    "# การเปรียบเทียบ List"
   ]
  },
  {
   "cell_type": "markdown",
   "metadata": {},
   "source": [
    "### เปรียบเทียบมากกว่า น้อยกว่า (>, >=, <, <=)"
   ]
  },
  {
   "cell_type": "markdown",
   "metadata": {},
   "source": [
    "* เปรียบเทียบทีละคู่ ผลการเปรียบเทียบของคู่แรกที่ต่างกัน จะเป็น ผลการเปรียบเทียบของ List"
   ]
  },
  {
   "cell_type": "code",
   "execution_count": null,
   "metadata": {
    "collapsed": false
   },
   "outputs": [],
   "source": [
    "list1 = [1, 2, 3, 4]\n",
    "list2 = [1, 2, 4, 3]\n",
    "print(list1 < list2)"
   ]
  },
  {
   "cell_type": "code",
   "execution_count": null,
   "metadata": {
    "collapsed": false
   },
   "outputs": [],
   "source": [
    "list1 = ['p', 'y', 't', 'h', 'o', 'n']\n",
    "list2 = ['p', 'y', 't', 'h', 'i', 'n']\n",
    "print(list1 > list2)"
   ]
  },
  {
   "cell_type": "markdown",
   "metadata": {},
   "source": [
    "* String เปรียบเทียบจาก ascii code (ดู ascii code ด้วยฟังก์ชัน ord(char))"
   ]
  },
  {
   "cell_type": "code",
   "execution_count": null,
   "metadata": {
    "collapsed": false
   },
   "outputs": [],
   "source": [
    "list1 = ['p', 'y', 't', 'h', 'o', 'n']\n",
    "list2 = ['P', 'y', 't', 'h', 'o', 'n']\n",
    "print(list1 < list2)\n",
    "print(ord('p'))\n",
    "print(ord('P'))"
   ]
  },
  {
   "cell_type": "markdown",
   "metadata": {},
   "source": [
    "* List ที่ไม่มีสมาชิกให้เปรียบเทียบในคู่นั้น จะน้อยกว่า"
   ]
  },
  {
   "cell_type": "code",
   "execution_count": null,
   "metadata": {
    "collapsed": false,
    "scrolled": true
   },
   "outputs": [],
   "source": [
    "list1 = ['p', 'y', 't', 'h', 'o', 'n']\n",
    "list2 = ['p', 'y', 't']\n",
    "print(list1 > list2)"
   ]
  },
  {
   "cell_type": "markdown",
   "metadata": {},
   "source": [
    "* Type ต่างกัน เปรียบเทียบกันไม่ได้"
   ]
  },
  {
   "cell_type": "code",
   "execution_count": null,
   "metadata": {
    "collapsed": false
   },
   "outputs": [],
   "source": [
    "list1 = ['H', 'e', 'l', 'l', 'o']\n",
    "str1 = 'Hello'\n",
    "print(list1 > str1)"
   ]
  },
  {
   "cell_type": "code",
   "execution_count": null,
   "metadata": {
    "collapsed": false
   },
   "outputs": [],
   "source": [
    "list1 = ['H', 'e', 'l', 'l', 'o']\n",
    "list2 = ['Hello']\n",
    "print(list1 > list2)"
   ]
  },
  {
   "cell_type": "markdown",
   "metadata": {},
   "source": [
    "### เปรียบเทียบเท่ากัน (Equality)\n",
    "* List 2 List เท่ากัน เมื่อสมาชิกทุกดัชนีเท่ากัน"
   ]
  },
  {
   "cell_type": "code",
   "execution_count": null,
   "metadata": {
    "collapsed": false
   },
   "outputs": [],
   "source": [
    "list1 = [1, 2, 3, 4]\n",
    "list2 = list(range(1, 5))\n",
    "print(list1 == list2)"
   ]
  },
  {
   "cell_type": "code",
   "execution_count": null,
   "metadata": {
    "collapsed": false
   },
   "outputs": [],
   "source": [
    "list1 = [3, 5, 7, 11]\n",
    "list2 = [2, 3, 5, 7]\n",
    "print(list1 == list2)"
   ]
  },
  {
   "cell_type": "markdown",
   "metadata": {},
   "source": [
    "* ถ้าจำนวนไม่เท่ากัน List ก็ไม่เท่ากัน"
   ]
  },
  {
   "cell_type": "code",
   "execution_count": null,
   "metadata": {
    "collapsed": false
   },
   "outputs": [],
   "source": [
    "list1 = [3, 4, 5]\n",
    "list2 = [3, 4, 5, 6]\n",
    "print(list1 == list2)\n",
    "print(list1 != list2)"
   ]
  },
  {
   "cell_type": "markdown",
   "metadata": {},
   "source": [
    "### เปรียบเทียบเอกลักษณ์ (Identity)\n",
    "* เปรียบเทียบว่าเป็น Object เดียวกันหรือไม่"
   ]
  },
  {
   "cell_type": "code",
   "execution_count": null,
   "metadata": {
    "collapsed": false
   },
   "outputs": [],
   "source": [
    "list1 = [1, 2, 3, 4]\n",
    "list2 = list(range(1, 5))\n",
    "print(list1 == list2)\n",
    "print(list1 is list2)\n",
    "print(list1 is [1, 2, 3, 4])"
   ]
  },
  {
   "cell_type": "code",
   "execution_count": null,
   "metadata": {
    "collapsed": false
   },
   "outputs": [],
   "source": [
    "list1 = [1, 2, 3, 4]\n",
    "list2 = list(range(1, 5))\n",
    "print(list1[1] == list2[1])\n",
    "print(list1[1] is list2[1])\n",
    "print(list1[1] is 2)"
   ]
  },
  {
   "cell_type": "code",
   "execution_count": null,
   "metadata": {
    "collapsed": false
   },
   "outputs": [],
   "source": [
    "list1 = [1, 2, 3, 4]\n",
    "list2 = list1\n",
    "print(list1 == list2)\n",
    "print(list1 is list2)"
   ]
  },
  {
   "cell_type": "code",
   "execution_count": null,
   "metadata": {
    "collapsed": false
   },
   "outputs": [],
   "source": [
    "a = \"a\"\n",
    "print(a == 'a')\n",
    "print(a is 'a')"
   ]
  },
  {
   "cell_type": "markdown",
   "metadata": {},
   "source": [
    "# Value Type v.s. Reference Type\n",
    "### Value Type\n",
    "* คือ ชนิดของข้อมูลที่เก็บค่าของข้อมูล\n",
    "* เช่น int, float, string\n",
    "\n",
    "### Reference Type\n",
    "* คือ ชนิดของข้อมูลที่เก็บ reference ที่อ้างถึงข้อมูล\n",
    "* เช่น List"
   ]
  },
  {
   "cell_type": "markdown",
   "metadata": {},
   "source": [
    "### ตัวอย่าง Value Type"
   ]
  },
  {
   "cell_type": "code",
   "execution_count": null,
   "metadata": {
    "collapsed": false
   },
   "outputs": [],
   "source": [
    "str1 = \"Hello \"\n",
    "str2 = str1                 # assign ค่าจากตัวแปร str1 ให้ ตัวแปร str2\n",
    "print(\"str1:\", str1)\n",
    "print(\"str2:\", str2)\n",
    "print(\"str1 is str2:\", str1 is str2)\n",
    "str2 += \"Python\"\n",
    "print('-' * 20)\n",
    "print(\"str1:\", str1)\n",
    "print(\"str2:\", str2)\n",
    "print(\"str1 is str2:\", str1 is str2)"
   ]
  },
  {
   "cell_type": "code",
   "execution_count": null,
   "metadata": {
    "collapsed": true
   },
   "outputs": [],
   "source": [
    "def append_string(str1, str2):\n",
    "    str1 += str2\n",
    "    return str1\n",
    "\n",
    "\n",
    "s1 = \"Hello \"\n",
    "s2 = \"Python\"\n",
    "print(\"s1 before call function:\", s1)\n",
    "print(\"append string:\", append_string(s1, s2))\n",
    "print(\"s1 after call function:\", s1)"
   ]
  },
  {
   "cell_type": "markdown",
   "metadata": {},
   "source": [
    "### ตัวอย่าง Reference Type"
   ]
  },
  {
   "cell_type": "code",
   "execution_count": null,
   "metadata": {
    "collapsed": false
   },
   "outputs": [],
   "source": [
    "list_a = [1, 2, 3]\n",
    "list_b = list_a                 # assign reference ที่ตัวแปร str1 อ้างถึง ให้ ตัวแปร str2 อ้างถึงได้ด้วย\n",
    "print(\"list_a:\", list_a)\n",
    "print(\"list_b:\", list_b)\n",
    "print(\"list_a is list_b:\", list_a is list_b)\n",
    "list_b.append(4)\n",
    "list_b.append(4)\n",
    "list_b.append(4)\n",
    "print('-' * 20)\n",
    "print(\"list_a:\", list_a)\n",
    "print(\"list_b:\", list_b)\n",
    "print(\"list_a is list_b:\", list_a is list_b)"
   ]
  },
  {
   "cell_type": "code",
   "execution_count": null,
   "metadata": {
    "collapsed": false
   },
   "outputs": [],
   "source": [
    "def append_list(list1, list2):\n",
    "    list1 += list2\n",
    "    return list1\n",
    "\n",
    "\n",
    "ls1 = [1, 2]\n",
    "ls2 = [3, 4]\n",
    "print(\"ls1 before call function:\", ls1)\n",
    "print(\"append list:\", append_list(ls1, ls2))\n",
    "print(\"ls1 after call function:\", ls1)"
   ]
  },
  {
   "cell_type": "markdown",
   "metadata": {},
   "source": [
    "# List Copying"
   ]
  },
  {
   "cell_type": "markdown",
   "metadata": {},
   "source": [
    "### `=` เป็นการ reference List เดิม\n",
    "```python\n",
    "c = a\n",
    "```"
   ]
  },
  {
   "cell_type": "code",
   "execution_count": null,
   "metadata": {
    "collapsed": false
   },
   "outputs": [],
   "source": [
    "a = [1, 2, 3, 4]\n",
    "c = a\n",
    "print(\"a is c:\", a is c)\n",
    "a.pop()\n",
    "print(\"a\", a)\n",
    "print(\"c\", c)"
   ]
  },
  {
   "cell_type": "markdown",
   "metadata": {},
   "source": [
    "### Copy ด้วย method `copy()`\n",
    "```python\n",
    "c = a.copy()\n",
    "```"
   ]
  },
  {
   "cell_type": "code",
   "execution_count": null,
   "metadata": {
    "collapsed": false
   },
   "outputs": [],
   "source": [
    "a = [1, 2, 3, 4]\n",
    "c = a.copy()\n",
    "print(\"a is c:\", a is c)\n",
    "a.pop()\n",
    "print(\"a\", a)\n",
    "print(\"c\", c)"
   ]
  },
  {
   "cell_type": "markdown",
   "metadata": {},
   "source": [
    "### Copy ด้วย function `list()`\n",
    "```python\n",
    "c = list(a)\n",
    "```"
   ]
  },
  {
   "cell_type": "code",
   "execution_count": null,
   "metadata": {
    "collapsed": false
   },
   "outputs": [],
   "source": [
    "a = [1, 2, 3, 4]\n",
    "c = list(a)\n",
    "print(\"a is c:\", a is c)\n",
    "a.pop()\n",
    "print(\"a\", a)\n",
    "print(\"c\", c)"
   ]
  },
  {
   "cell_type": "markdown",
   "metadata": {},
   "source": [
    "### Copy ด้วย List Slicing\n",
    "```python\n",
    "c = a[:]\n",
    "```"
   ]
  },
  {
   "cell_type": "code",
   "execution_count": null,
   "metadata": {
    "collapsed": false
   },
   "outputs": [],
   "source": [
    "a = [1, 2, 3, 4]\n",
    "c = a[:]\n",
    "print(\"a is c:\", a is c)\n",
    "a.pop()\n",
    "print(\"a\", a)\n",
    "print(\"c\", c)"
   ]
  },
  {
   "cell_type": "markdown",
   "metadata": {},
   "source": [
    "### _ทั้งสามวิธีเป็น Top Level Copy (Shallow Copy)_\n",
    "**ใช้ไม่ได้กับกรณี List ซ้อน List**"
   ]
  },
  {
   "cell_type": "markdown",
   "metadata": {},
   "source": [
    "# List ซ้อน List"
   ]
  },
  {
   "cell_type": "code",
   "execution_count": null,
   "metadata": {
    "collapsed": false
   },
   "outputs": [],
   "source": [
    "ls = [ [1,2,3] , [4,5,6] , [7,8,9] ]\n",
    "print(ls[0])\n",
    "print(ls[1][2])"
   ]
  },
  {
   "cell_type": "code",
   "execution_count": null,
   "metadata": {
    "collapsed": false
   },
   "outputs": [],
   "source": [
    "# แต่ละแถวมีสมาชิกไม่เท่ากันก็ได้\n",
    "ls = [ [1,2,3] , [4,5] , [7,8,9] ]\n",
    "print(ls[0])\n",
    "print(ls[1])"
   ]
  },
  {
   "cell_type": "markdown",
   "metadata": {},
   "source": [
    "### แสดงข้อมูลใน List แบบ Matrix"
   ]
  },
  {
   "cell_type": "code",
   "execution_count": null,
   "metadata": {
    "collapsed": false
   },
   "outputs": [],
   "source": [
    "ls = [ [1,2,3] , [4,5,6] , [7,8,9] ]\n",
    "for i in ls:\n",
    "    for j in i:\n",
    "        print(j, end=' ')\n",
    "    print('')"
   ]
  },
  {
   "cell_type": "code",
   "execution_count": null,
   "metadata": {
    "collapsed": false
   },
   "outputs": [],
   "source": [
    "ls = [ [1,2,3] , [4,5] , [7,8,9] ]\n",
    "for i in ls:\n",
    "    for j in i:\n",
    "        print(j, end=' ')\n",
    "    print('')"
   ]
  },
  {
   "cell_type": "markdown",
   "metadata": {},
   "source": [
    "### Top Level Copy (Shallow Copy)"
   ]
  },
  {
   "cell_type": "code",
   "execution_count": null,
   "metadata": {
    "collapsed": false
   },
   "outputs": [],
   "source": [
    "ls = [ [1,2,3] , [4,5,6] , [7,8,9] ]\n",
    "c = ls.copy()\n",
    "print(\"c is ls:\", c is ls)\n",
    "print(\"c[0] is ls[0]:\", c[0] is ls[0])\n",
    "ls[0].pop()\n",
    "print(\"ls:\", ls)\n",
    "print(\"c:\", c)"
   ]
  },
  {
   "cell_type": "markdown",
   "metadata": {},
   "source": [
    "### Deep Copy\n",
    "* ใช้ method `deepcopy()` ในโมดูล `copy`\n",
    "```python\n",
    "import copy\n",
    "c = copy.deepcopy(a)\n",
    "```"
   ]
  },
  {
   "cell_type": "code",
   "execution_count": null,
   "metadata": {
    "collapsed": false
   },
   "outputs": [],
   "source": [
    "import copy\n",
    "ls = [ [1,2,3] , [4,5,6] , [7,8,9] ]\n",
    "c = copy.deepcopy(ls)\n",
    "print(\"c is ls:\", c is ls)\n",
    "print(\"c[0] is ls[0]:\", c[0] is ls[0])\n",
    "ls[0].pop()\n",
    "print(\"ls:\", ls)\n",
    "print(\"c:\", c)"
   ]
  }
 ],
 "metadata": {
  "kernelspec": {
   "display_name": "Python 3",
   "language": "python",
   "name": "python3"
  },
  "language_info": {
   "codemirror_mode": {
    "name": "ipython",
    "version": 3
   },
   "file_extension": ".py",
   "mimetype": "text/x-python",
   "name": "python",
   "nbconvert_exporter": "python",
   "pygments_lexer": "ipython3",
   "version": "3.5.2"
  }
 },
 "nbformat": 4,
 "nbformat_minor": 0
}
