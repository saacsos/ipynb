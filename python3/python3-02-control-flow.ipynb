{
 "cells": [
  {
   "cell_type": "markdown",
   "metadata": {
    "collapsed": true
   },
   "source": [
    "# Table of Contents\n",
    "* String Formatting\n",
    "* String and Escape Characters\n",
    "* Boolean Expression\n",
    "* Relational Operators\n",
    "* Boolean (Logical) Operators\n",
    "* Condition Statement\n",
    "* Data Cleansing"
   ]
  },
  {
   "cell_type": "markdown",
   "metadata": {},
   "source": [
    "# String Formatting\n",
    "* \"String with placeholder\" % (data1, data2, ...)\n",
    "* \"String with placeholder\" % data1\n",
    "\n",
    "|placeholder: %typecode|คำอธิบาย|\n",
    "|------|------|\n",
    "|%d  |สำหรับแทน integer|\n",
    "|%f   |สำหรับแทน float|\n",
    "|%s  |สำหรับแทน String|"
   ]
  },
  {
   "cell_type": "code",
   "execution_count": null,
   "metadata": {
    "collapsed": false
   },
   "outputs": [],
   "source": [
    "name = \"Alice\"\n",
    "age = 18\n",
    "my_info = \"My name is %s. I am %d years old. My height is %f\" % (name, age, 1.82)\n",
    "print(my_info)"
   ]
  },
  {
   "cell_type": "markdown",
   "metadata": {},
   "source": [
    "### Advanced Formatting\n",
    "* ** %\\[flag\\]\\[width\\]\\[.precision\\]typecode **\n",
    "    * \\[width\\] ความกว้างที่ใช้แสดงผลข้อมูล (จากขวาสุด)"
   ]
  },
  {
   "cell_type": "code",
   "execution_count": null,
   "metadata": {
    "collapsed": false,
    "scrolled": true
   },
   "outputs": [],
   "source": [
    "print(\"Hello,%10s.\" % \"Alice\")\n",
    "print(\"Hello,%9s.\" % \"Alice\")\n",
    "print(\"Hello,%8s.\" % \"Alice\")\n",
    "print(\"Hello,%7s.\" % \"Alice\")\n",
    "print(\"Hello,%6s.\" % \"Alice\")\n",
    "print(\"Hello,%5s.\" % \"Alice\")\n",
    "print(\"Hello,%4s.\" % \"Alice\")\n",
    "print(\"Hello,%3s.\" % \"Alice\")"
   ]
  },
  {
   "cell_type": "code",
   "execution_count": null,
   "metadata": {
    "collapsed": false
   },
   "outputs": [],
   "source": [
    "print(\"Hello,%10s.\", \"Alice\")"
   ]
  },
  {
   "cell_type": "code",
   "execution_count": null,
   "metadata": {
    "collapsed": false
   },
   "outputs": [],
   "source": [
    "import math\n",
    "print(\"The value of %10s is %10f\" % (\"math.pi\", math.pi))\n",
    "print(\"The value of %9s is %9f\" % (\"math.pi\", math.pi))\n",
    "print(\"The value of %8s is %8f\" % (\"math.pi\", math.pi))\n",
    "print(\"The value of %7s is %7f\" % (\"math.pi\", math.pi))\n",
    "print(\"The value of %6s is %6f\" % (\"math.pi\", math.pi))"
   ]
  },
  {
   "cell_type": "code",
   "execution_count": null,
   "metadata": {
    "collapsed": false
   },
   "outputs": [],
   "source": [
    "print(\"%4d Items: [%4d,%4d]\" % (2, 1, 20))\n",
    "print(\"%3d Items: [%3d,%3d]\" % (2, 1, 20))\n",
    "print(\"%d Items: [%1d,%2d]\" % (2, 1, 20))\n",
    "print(\"%d Items: [%1d, %2d]\" % (2, 1, 20))"
   ]
  },
  {
   "cell_type": "markdown",
   "metadata": {},
   "source": [
    "* ** %\\[flag\\]\\[width\\]\\[.precision\\]typecode **\n",
    "    * \\[precision\\] สำหรับ float เท่านั้น บอกจำนวนทศนิยมหลังจุด \n",
    "    * หากมีการปัดทศนิยม จะเหมือน round()"
   ]
  },
  {
   "cell_type": "code",
   "execution_count": null,
   "metadata": {
    "collapsed": false,
    "scrolled": true
   },
   "outputs": [],
   "source": [
    "print(\"math.pi: %.10f, and %.10f\" % (math.pi, 3.1415))\n",
    "print(\"math.pi: %.2f, and %.3f\" % (math.pi, 3.1415))\n",
    "print(\"math.pi: %6.2f, and %6.3f\" % (math.pi, 3.1415))"
   ]
  },
  {
   "cell_type": "markdown",
   "metadata": {},
   "source": [
    "* ** %\\[flag\\]\\[width\\]\\[.precision\\]typecode **\n",
    "    * \\[flag\\]  \n",
    "        * \\+ : เติมเครื่องหมาย + สำหรับจำนวนบวก\n",
    "        * \\- : จัดข้อมูลให้ชิดซ้าย\n",
    "        * 0 : ใส่เลข 0 หน้าจำนวน"
   ]
  },
  {
   "cell_type": "code",
   "execution_count": null,
   "metadata": {
    "collapsed": false
   },
   "outputs": [],
   "source": [
    "print(\"A: %20s %30.2f\" % (\"Total\", 159.92))\n",
    "print(\"B: %20s %+30.2f\" % (\"Total\", 159.92))\n",
    "print(\"C: %-20s %30.2f\" % (\"Total\", 159.92))\n",
    "print(\"D: %-20s %-30.2f\" % (\"Total\", 159.92))\n",
    "print(\"E: %-20s %-+30.2f\" % (\"Total\", 159.92))\n",
    "print(\"F: %-20s %030.2f\" % (\"Total\", 159.92))\n",
    "print(\"G: %-20s %+030.2f\" % (\"Total\", 159.92))"
   ]
  },
  {
   "cell_type": "markdown",
   "metadata": {},
   "source": [
    "# String and Escape Characters\n",
    "### String\n",
    "* 'single qoute'\n",
    "* \"double qoute\"\n",
    "* '''triple qoute''' แสดงข้อความหลายบรรทัด\n",
    "    \n",
    "### Escape Characters\n",
    "\n",
    "|Escape Characters| ความหมาย|\n",
    "|:----------:|--------------|\n",
    "|\\'| ใช้แสดง ' ใน single qoute|\n",
    "|\\\"| ใช้แสดง \" ใน double qoute|\n",
    "|\\n| ขึ้นบรรทัดใหม่|\n",
    "|\\t| แสดง Tab|\n",
    "|\\\\\\| แสดง backslash|\n",
    "   "
   ]
  },
  {
   "cell_type": "code",
   "execution_count": null,
   "metadata": {
    "collapsed": false,
    "scrolled": true
   },
   "outputs": [],
   "source": [
    "print(\"I'm Legend.\")\n",
    "print('I\\'m Legend.')"
   ]
  },
  {
   "cell_type": "code",
   "execution_count": null,
   "metadata": {
    "collapsed": false,
    "scrolled": true
   },
   "outputs": [],
   "source": [
    "print('He said: \"I\\'m Legend.\"')\n",
    "print(\"He said: \\\"I'm Legend.\\\"\")"
   ]
  },
  {
   "cell_type": "code",
   "execution_count": null,
   "metadata": {
    "collapsed": true
   },
   "outputs": [],
   "source": [
    "s = \"I'm Legend.\"\n",
    "print('He said:\"%s\"' % s)"
   ]
  },
  {
   "cell_type": "code",
   "execution_count": null,
   "metadata": {
    "collapsed": false
   },
   "outputs": [],
   "source": [
    "print('Lorem ipsum dolor sit amet, consectetur adipiscing elit.\\nAliquam vestibulum commodo tortor nec condimentum.\\nSed fermentum quam sit amet enim laoreet, ac sagittis orci tempor.')"
   ]
  },
  {
   "cell_type": "code",
   "execution_count": null,
   "metadata": {
    "collapsed": false
   },
   "outputs": [],
   "source": [
    "print('''\n",
    "Lorem ipsum dolor sit amet, consectetur adipiscing elit. \n",
    "Aliquam vestibulum commodo tortor nec condimentum. \n",
    "Sed fermentum quam sit amet enim laoreet, ac sagittis orci tempor.\n",
    "''')"
   ]
  },
  {
   "cell_type": "code",
   "execution_count": null,
   "metadata": {
    "collapsed": false
   },
   "outputs": [],
   "source": [
    "print('''\\\n",
    "Lorem ipsum dolor sit amet, consectetur adipiscing elit. \n",
    "Aliquam vestibulum commodo tortor nec condimentum. \n",
    "Sed fermentum quam sit amet enim laoreet, ac sagittis orci tempor.\n",
    "''')"
   ]
  },
  {
   "cell_type": "code",
   "execution_count": null,
   "metadata": {
    "collapsed": false
   },
   "outputs": [],
   "source": [
    "print(\"To print tab (\\t) use \\\\t.\")"
   ]
  },
  {
   "cell_type": "markdown",
   "metadata": {},
   "source": [
    "# Boolean Expression (นิพจน์ตรรกศาสตร์)\n",
    "> นิพจน์หรือเงื่อนไขที่ให้ผลลัพธ์เป็นจริง (**True**) หรือเท็จ (**False**) เท่านั้น\n",
    "\n",
    "* True\n",
    "* False\n",
    "\n",
    "*ระวัง Case Sensitive*\n",
    "\n",
    "### การสร้างนิพจน์ตรรกศาสตร์\n",
    "* Relational Operators\n",
    "* Boolean (Logical) Operators"
   ]
  },
  {
   "cell_type": "markdown",
   "metadata": {},
   "source": [
    "# Relational Operators (ตัวดำเนินการเปรียบเทียบ)\n",
    "\n",
    "|Operator|ความหมาย| ตัวอย่าง |\n",
    "|:------:|-------------|-------------|\n",
    "|==|เปรียบเทียบเท่ากับ|a == b (a เท่ากับ b จริงหรือเท็จ)|\n",
    "|!=|เปรียบเทียบไม่เท่ากับ|a != b (a ไม่เท่ากับ b จริงหรือเท็จ)|\n",
    "|>|เปรียบเทียบมากกว่า|a > 2 (a มากกว่า 2 จริงหรือเท็จ)|\n",
    "|<|เปรียบเทียบน้อยกว่า|2 < 3 (2 น้อยกว่า 3 จริง)|\n",
    "|>=|เปรียบเทียบมากกว่าหรือเท่ากับ|5 >= 10 (5 มากกว่าหรือเท่ากับ 10 เท็จ)|\n",
    "|<=|เปรียบเทียบน้อยกว่าหรือเท่ากับ|a <= 3 (a น้อยกว่าหรือเท่ากับ 3 จริงหรือเท็จ)|\n"
   ]
  },
  {
   "cell_type": "code",
   "execution_count": null,
   "metadata": {
    "collapsed": false
   },
   "outputs": [],
   "source": [
    "import math\n",
    "print(\"(math.pi == 3.14) is\", math.pi == 3.14)\n",
    "print(\"(math.pi != 3.14) is\", math.pi != 3.14)"
   ]
  },
  {
   "cell_type": "code",
   "execution_count": null,
   "metadata": {
    "collapsed": false
   },
   "outputs": [],
   "source": [
    "a = 90\n",
    "b = 90.0\n",
    "print(\"(a == b) is\", a == b)\n",
    "print(\"(a > b) is\", a > b)\n",
    "print(\"(a <= b) is\", a <= b)"
   ]
  },
  {
   "cell_type": "code",
   "execution_count": null,
   "metadata": {
    "collapsed": false
   },
   "outputs": [],
   "source": [
    "a = \"A\"\n",
    "print(a > \"A\")\n",
    "print(a == \"A\")\n",
    "print(a >= \"A\")\n",
    "print(a != \"a\")"
   ]
  },
  {
   "cell_type": "code",
   "execution_count": null,
   "metadata": {
    "collapsed": false
   },
   "outputs": [],
   "source": [
    "# ตรวจสอบว่า a หารด้วย 4 ลงตัวหรือไม่\n",
    "a = 20\n",
    "print(a % 4 == 0)"
   ]
  },
  {
   "cell_type": "code",
   "execution_count": null,
   "metadata": {
    "collapsed": true
   },
   "outputs": [],
   "source": [
    "# ตรวจสอบว่า เศษจากการหาร a ด้วย 3 เท่ากับ เศษจากการหาร a ด้วย 5 หรือไม่\n",
    "a = 20\n",
    "print(a % 3 == a % 5)"
   ]
  },
  {
   "cell_type": "markdown",
   "metadata": {},
   "source": [
    "### (Your Turn)\n",
    "ตรวจสอบว่า x เป็นคำตอบของสมการ $ 2x^2 + x = 0 $ หรือไม่"
   ]
  },
  {
   "cell_type": "code",
   "execution_count": null,
   "metadata": {
    "collapsed": false
   },
   "outputs": [],
   "source": [
    "x = -1/2\n",
    "# Your code here\n"
   ]
  },
  {
   "cell_type": "markdown",
   "metadata": {},
   "source": [
    "# Boolean (Logical) Operators\n",
    "\n",
    "|Operator|ความหมาย|ตัวอย่าง|\n",
    "|:-----:|-----|-----|\n",
    "|and|และ|True **and** True|\n",
    "|or| หรือ | False **or** False|\n",
    "|not| นิเสธ|**not** True|"
   ]
  },
  {
   "cell_type": "code",
   "execution_count": null,
   "metadata": {
    "collapsed": false
   },
   "outputs": [],
   "source": [
    "print(True and True)"
   ]
  },
  {
   "cell_type": "code",
   "execution_count": null,
   "metadata": {
    "collapsed": false
   },
   "outputs": [],
   "source": [
    "print((4>3) and (5 < 10))"
   ]
  },
  {
   "cell_type": "code",
   "execution_count": null,
   "metadata": {
    "collapsed": false
   },
   "outputs": [],
   "source": [
    "# a หารด้วย 13 หรือ 17 ลงตัวหรือไม่\n",
    "a = 13 * 17\n",
    "print((a % 13 == 0) or (a % 17 == 0))"
   ]
  },
  {
   "cell_type": "code",
   "execution_count": null,
   "metadata": {
    "collapsed": false,
    "scrolled": true
   },
   "outputs": [],
   "source": [
    "# input ที่รับเข้ามา เป็น B หรือ b หรือไม่\n",
    "choice = input(\"Enter choice: \")\n",
    "print((choice == 'B') or (choice == 'b'))"
   ]
  },
  {
   "cell_type": "markdown",
   "metadata": {},
   "source": [
    "### (Your Turn)\n",
    "เขียนโปรแกรมรับจำนวนเต็มมาจำนวนหนึ่ง จากนั้นตรวจสอบจำนวนที่รับเข้ามา เป็นคำตอบของสมการ $ x^2 - 6x + 9 = 0 $ หรือไม่"
   ]
  },
  {
   "cell_type": "code",
   "execution_count": null,
   "metadata": {
    "collapsed": true
   },
   "outputs": [],
   "source": [
    "# Your code here\n",
    "\n",
    "\n",
    "\n"
   ]
  },
  {
   "cell_type": "markdown",
   "metadata": {},
   "source": [
    "### (Your Turn)\n",
    "เขียนโปรแกรมรับจำนวนเต็มมาจำนวนหนึ่ง จากนั้นตรวจสอบจำนวนที่รับเข้ามา เป็นจำนวนคู่ที่หารด้วย 3 ลงตัว หรือไม่"
   ]
  },
  {
   "cell_type": "code",
   "execution_count": null,
   "metadata": {
    "collapsed": true
   },
   "outputs": [],
   "source": [
    "# Your code here\n",
    "\n",
    "\n",
    "\n"
   ]
  },
  {
   "cell_type": "markdown",
   "metadata": {},
   "source": [
    "# Condition Statement (คำสั่งเงื่อนไข)\n",
    "> python ใช้ indent ในการจัด block ของ code <br>\n",
    "> code ที่มี indent เท่ากัน จะทำต่อเนื่องกัน\n",
    "\n",
    "### if statement\n",
    "```python\n",
    "if (Boolean_Expression):\n",
    "    #do something if True\n",
    "    #do another\n",
    "#do whenever true or false\n",
    "```\n",
    "\n",
    "### if-else statement\n",
    "```python\n",
    "if (Boolean_Expression):\n",
    "    #do if True\n",
    "    #do another1\n",
    "else:\n",
    "    #do if False\n",
    "    #do another2\n",
    "#do after if-else\n",
    "```\n",
    "\n",
    "### if-elif-else statement\n",
    "```python\n",
    "if (BooleanExp1):\n",
    "    # do if Exp1 is True\n",
    "elif (BooleanExp2):\n",
    "    # do if Exp1 is False but Exp2 is True\n",
    "elif (... BooleanExpN) :\n",
    "    # do if Exp1 and Exp2 and ... are False but ExpN is True\n",
    "else:\n",
    "    # do if Exp1...N are False\n",
    "# do after if-elif-else\n",
    "```"
   ]
  },
  {
   "cell_type": "markdown",
   "metadata": {},
   "source": [
    "### ตัวอย่าง\n",
    "สวนสัตว์แห่งหนึ่ง จำหน่ายตั๋วให้ผู้เข้าชมราคา 40 บาท <br>\n",
    "ยกเว้นผู้ที่มีส่วนสูงไม่เกิน 140 เซนติเมตร ไม่ต้องเสียค่าเข้าชม"
   ]
  },
  {
   "cell_type": "code",
   "execution_count": null,
   "metadata": {
    "collapsed": true
   },
   "outputs": [],
   "source": [
    "# Input\n",
    "price = 40 # Declaration (First assignment)\n",
    "height = int(input(\"Enter height (cm): \"))\n",
    "\n",
    "# Process\n",
    "if (height <= 140):\n",
    "    price = 0\n",
    "    print(\"Hello, kid!\")\n",
    "    \n",
    "# Output\n",
    "print(\"Your Ticket price is %d Baht.\" % price)"
   ]
  },
  {
   "cell_type": "code",
   "execution_count": null,
   "metadata": {
    "collapsed": true
   },
   "outputs": [],
   "source": [
    "# ใน Python ไม่สามารถมี Block ว่างได้\n",
    "# ให้ใช้ pass กรณีที่ Block นั้น ไม่มีคำสั่งให้ประมวลผล\n",
    "\n",
    "# Input\n",
    "price = 40\n",
    "height = int(input(\"Enter height (cm): \"))\n",
    "\n",
    "# Process\n",
    "if (height > 140):\n",
    "    pass\n",
    "else:\n",
    "    print(\"Hello, kid!\")\n",
    "    price = 0\n",
    "\n",
    "# Output\n",
    "print(\"Your Ticket price is %d Baht.\" % price)"
   ]
  },
  {
   "cell_type": "markdown",
   "metadata": {},
   "source": [
    "สวนสัตว์แห่งเดิม เปลี่ยนเงื่อนไขในการจำหน่ายตั๋วใหม่ดังนี้<br>\n",
    "* ผู้เข้าชมทั่วไป เสียค่าเข้าชม 40 บาท\n",
    "* ผู้เข้าชมที่มีอายุไม่เกิน 15 ปี เสียค่าเข้าชม 20 บาท\n",
    "* ผู้เข้าชมที่มีอายุไม่เกิน 15 ปี และมีความสูงไม่เกิน 140 เซนติเมตร ไม่ต้องเสียค่าเข้าชม"
   ]
  },
  {
   "cell_type": "code",
   "execution_count": null,
   "metadata": {
    "collapsed": true
   },
   "outputs": [],
   "source": [
    "# Input\n",
    "price = 40\n",
    "age = int(input(\"Enter age: \"))\n",
    "height = int(input(\"Enter height (cm): \"))\n",
    "\n",
    "# Process\n",
    "if (age > 15):\n",
    "    pass\n",
    "elif (height <= 140):\n",
    "    print(\"Hello, kid!\")\n",
    "    price = 0\n",
    "else:\n",
    "    print(\"Hello, kid!\")\n",
    "    price = 20\n",
    "\n",
    "# Output\n",
    "print(\"Your Ticket price is %d Baht.\" % price)"
   ]
  },
  {
   "cell_type": "markdown",
   "metadata": {},
   "source": [
    "# Data Cleansing (การแยกขยะ)\n",
    "โปรแกรมที่เขียนขึ้น อาจจะประมวลผลกับข้อมูลที่มาจากไฟล์ หรือแหล่งข้อมูลอื่น ที่อาจมีข้อมูลที่ผิดพลาดได้ (เช่น อายุไม่ควรติดลบ)<br>\n",
    "จึงควรแยกข้อมูลที่ไม่ถูกต้อง (ขยะ) ออกไปก่อนการประมวลผลของโปรแกรม"
   ]
  },
  {
   "cell_type": "code",
   "execution_count": null,
   "metadata": {
    "collapsed": true
   },
   "outputs": [],
   "source": [
    "# Input\n",
    "price = 40\n",
    "age = int(input(\"Enter age: \"))\n",
    "height = int(input(\"Enter height (cm): \"))\n",
    "\n",
    "# Process\n",
    "if age < 0 or height <= 0:\n",
    "    print(\"Invalid age or height.\")\n",
    "else:\n",
    "    if (age > 15):\n",
    "        pass\n",
    "    elif (height <= 140):\n",
    "        print(\"Hello, kid!\")\n",
    "        price = 0\n",
    "    else:\n",
    "        print(\"Hello, kid!\")\n",
    "        price = 20\n",
    "\n",
    "    # Output\n",
    "    print(\"Your Ticket price is %d Baht.\" % price)"
   ]
  },
  {
   "cell_type": "markdown",
   "metadata": {},
   "source": [
    "### (Your Turn)\n",
    "จงเขียนโปรแกรมเพื่อรับจำนวนจริง x <br>\n",
    "จากนั้นหาค่า f(x) ที่กำหนดให้\n",
    "$  f(x) =\\begin{cases}\n",
    "100 - x^2 & ; x < 0 \\\\\n",
    "x^2 + \\sqrt{x} + 1 & ; 0 <= x < 100 \\\\\n",
    "\\frac{100}{\\sqrt{x + 1}} & ; x > 100\n",
    "\\end{cases} $"
   ]
  },
  {
   "cell_type": "code",
   "execution_count": null,
   "metadata": {
    "collapsed": true
   },
   "outputs": [],
   "source": [
    "\n",
    "\n",
    "\n",
    "\n",
    "\n"
   ]
  }
 ],
 "metadata": {
  "kernelspec": {
   "display_name": "Python 3",
   "language": "python",
   "name": "python3"
  },
  "language_info": {
   "codemirror_mode": {
    "name": "ipython",
    "version": 3
   },
   "file_extension": ".py",
   "mimetype": "text/x-python",
   "name": "python",
   "nbconvert_exporter": "python",
   "pygments_lexer": "ipython3",
   "version": "3.4.4"
  }
 },
 "nbformat": 4,
 "nbformat_minor": 0
}
