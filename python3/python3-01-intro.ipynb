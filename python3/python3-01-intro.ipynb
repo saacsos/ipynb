{
 "cells": [
  {
   "cell_type": "markdown",
   "metadata": {},
   "source": [
    "# Table of Contents\n",
    "* Variable\n",
    "* Mathmetics Operators\n",
    "* Function print()\n",
    "* Function input()\n",
    "* String Concatenate\n",
    "* Function int(), float(), str()\n",
    "* Function round(), abs(), pow()\n",
    "* Input > Process > Output\n",
    "* Module math\n",
    "\n",
    "----------------"
   ]
  },
  {
   "cell_type": "markdown",
   "metadata": {},
   "source": [
    "# Variable (ตัวแปร)\n",
    "* ตัวแปร ไว้อ้างถึงข้อมูลต่าง ๆ\n",
    "* ชื่อตัวแปรควรสื่อความหมายของค่าที่เก็บ\n",
    "* ชนิดของข้อมูล (Data Type) โดยพื้นฐานมี 4 รูปแบบ คือ\n",
    "    * String (สายอักขระ)\n",
    "    * int (จำนวนเต็ม - จำนวนเต็มบวก จำนวนเต็มลบ จำนวนเต็มศูนย์)\n",
    "    * float (ทศนิยม)\n",
    "    * boolean (จริง / เท็จ)"
   ]
  },
  {
   "cell_type": "markdown",
   "metadata": {},
   "source": [
    "### Assignment (การกำหนดค่าให้ตัวแปร)\n",
    "* ใช้เครื่องหมาย =\n",
    "* กำหนดค่าทางขวา ให้ ตัวแปร ทางซ้าย"
   ]
  },
  {
   "cell_type": "code",
   "execution_count": null,
   "metadata": {
    "collapsed": false
   },
   "outputs": [],
   "source": [
    "# ตัวแปร name เก็บข้อมูล ชื่อ ซึ่งมี Type เป็น String\n",
    "name = \"Alice\"\n",
    "# ตัวแปร age เก็บข้อมูล อายุ ซึ่งมี Type เป็น int\n",
    "age = 18\n",
    "# ตัวแปร weight เก็บข้อมูล น้ำหนัก ซึ่งมี Type เป็น float\n",
    "weight = 50.3\n",
    "# ตัวแปร is_easy เก็บข้อมูล ความง่าย ซึ่งมี Type เป็น boolean\n",
    "is_easy = True\n",
    "# ฟังก์ชัน print() ใช้สำหรับพิมพ์ข้อมูล\n",
    "print(name)\n",
    "print(age)\n",
    "print(weight)\n",
    "print(is_easy)"
   ]
  },
  {
   "cell_type": "markdown",
   "metadata": {},
   "source": [
    "* ตัวแปรอยู่ทางซ้ายของเครื่องหมาย = เป็นตัวแปรที่ถูกกำหนดค่าใหม่\n",
    "* ถ้าตัวแปรอยู่ตำแหน่งอื่น เป็นการนำค่าที่ตัวแปรเก็บ ไปใช้งาน (เช่น การคำนวณ)\n",
    "* การกำหนดค่าครั้งแรก อาจเรียกว่า การประกาศตัวแปร (declaration)"
   ]
  },
  {
   "cell_type": "code",
   "execution_count": null,
   "metadata": {
    "collapsed": false
   },
   "outputs": [],
   "source": [
    "number = 2 # assignment ครั้งแรก หรือ การประกาศ\n",
    "print(number) # สังเกตผลลัพธ์บรรทัดที่ 1\n",
    "\n",
    "print(number + 20) # number ไม่อยู่หน้าเครื่องหมาย = เป็นการนำค่าที่เก็บมาใช้\n",
    "                            # สังเกตผลลัพธ์บรรทัดที่ 2\n",
    "\n",
    "print(number)  # ดังนั้น จะไม่ส่งผลกับค่าที่เก็บอยู่เดิม\n",
    "                        # สังเกตผลลัพธ์บรรทัดที่ 3\n",
    "\n",
    "number = number + 1 #  number ทางขวา คือค่า 2 และมี number ทางซ้ายของเครื่องหมาย =\n",
    "print(number)  # ดังนั้น number เปลี่ยนค่าไปแล้ว\n",
    "                        # สังเกตผลลัพธ์บรรทัดที่ 4"
   ]
  },
  {
   "cell_type": "markdown",
   "metadata": {},
   "source": [
    "# Mathmetics Operators (ตัวดำเนินการทางคณิตศาสตร์)"
   ]
  },
  {
   "cell_type": "markdown",
   "metadata": {},
   "source": [
    "## Operator Precedences (ลำดับความสำคัญของตัวดำเนินการ)\n",
    "> PEMDAS\n",
    "\n",
    "### ลำดับ 1 (สูงสุด ทำก่อนเสมอ) Parenthesis วงเล็บ\n",
    "> ทำในวงเล็บก่อน\n",
    "\n",
    "### ลำดับ 2 Exponents ยกกำลัง\n",
    "> ทำจากขวาไปซ้าย\n",
    "\n",
    "* a \\*\\* b   \n",
    "a ยกกำลัง b\n",
    "\n",
    "### ลำดับ 3 Multiplication, Division คูณ หาร\n",
    "> ทำจากซ้ายไปขวา\n",
    "\n",
    "* a \\* b      \n",
    "a คูณ b\n",
    "* a / b        \n",
    "a หารด้วย b\n",
    "* a // b       \n",
    "a หารด้วย b คำตอบปัดเศษทิ้ง\n",
    "* a % b      \n",
    "a หารด้วย b คำตอบเอาเฉพาะเศษ (modulo, modulus, mod)\n",
    "\n",
    "### ลำดับ 4 Addition, Subtraction บวก ลบ\n",
    "> ทำจากซ้ายไปขวา\n",
    "\n",
    "* a + b\n",
    "a บวก b\n",
    "* a - b\n",
    "a ลบ b"
   ]
  },
  {
   "cell_type": "code",
   "execution_count": null,
   "metadata": {
    "collapsed": true
   },
   "outputs": [],
   "source": [
    "print((12 / 6) * (15 - 10))"
   ]
  },
  {
   "cell_type": "code",
   "execution_count": null,
   "metadata": {
    "collapsed": true
   },
   "outputs": [],
   "source": [
    "print(12 / 6 * 15 - 10)"
   ]
  },
  {
   "cell_type": "code",
   "execution_count": null,
   "metadata": {
    "collapsed": true
   },
   "outputs": [],
   "source": [
    "print(2 + 5 * 6 / 3 + (7 - 2 * 3))"
   ]
  },
  {
   "cell_type": "code",
   "execution_count": null,
   "metadata": {
    "collapsed": true
   },
   "outputs": [],
   "source": [
    "print(2 ** 2 ** 3)"
   ]
  },
  {
   "cell_type": "code",
   "execution_count": null,
   "metadata": {
    "collapsed": true
   },
   "outputs": [],
   "source": [
    "a = 10\n",
    "print (a * 5 + 2 - a // 3)"
   ]
  },
  {
   "cell_type": "code",
   "execution_count": null,
   "metadata": {
    "collapsed": true
   },
   "outputs": [],
   "source": [
    "a = 10\n",
    "b = 3\n",
    "print (20 - a * b + b / a - a % b)"
   ]
  },
  {
   "cell_type": "markdown",
   "metadata": {},
   "source": [
    "### (Your Turn)"
   ]
  },
  {
   "cell_type": "code",
   "execution_count": null,
   "metadata": {
    "collapsed": true
   },
   "outputs": [],
   "source": [
    "a = 768\n",
    "# พิมพ์เลขในหลักหน่วยของค่าในตัวแปร a\n",
    "\n",
    "# พิมพ์เลขในหลักสิบของค่าในตัวแปร a\n",
    "\n",
    "# พิมพ์เลขในหลักร้อยของค่าในตัวแปร a\n",
    "\n",
    "# พิมพ์ผลรวมของเลขโดดในหลักหน่วย หลักสิบ และหลักร้อย ของค่าในตัวแปร a\n"
   ]
  },
  {
   "cell_type": "markdown",
   "metadata": {},
   "source": [
    "# Function print()\n",
    "* print()\n",
    "* print(data1, data2, data3, data4)\n",
    "* print(data, end='')"
   ]
  },
  {
   "cell_type": "code",
   "execution_count": null,
   "metadata": {
    "collapsed": false
   },
   "outputs": [],
   "source": [
    "name = \"Alice\"\n",
    "age = 18\n",
    "weight = 50.3\n",
    "is_easy = True\n",
    "\n",
    "print(name)\n",
    "\n",
    "print()\n",
    "\n",
    "print(age)\n",
    "\n",
    "print()\n",
    "\n",
    "print(weight)\n",
    "\n",
    "print(is_easy)"
   ]
  },
  {
   "cell_type": "code",
   "execution_count": null,
   "metadata": {
    "collapsed": false
   },
   "outputs": [],
   "source": [
    "name = \"Alice\"\n",
    "age = 18\n",
    "weight = 50.3\n",
    "is_easy = True\n",
    "\n",
    "print(name, age, weight, is_easy)\n",
    "\n",
    "print(\"name\", name, \"age\", age)\n",
    "\n",
    "print(\"weight:\", weight, \"Kg\")"
   ]
  },
  {
   "cell_type": "code",
   "execution_count": null,
   "metadata": {
    "collapsed": true
   },
   "outputs": [],
   "source": [
    "name = \"Alice\"\n",
    "age = 18\n",
    "weight = 50.3\n",
    "is_easy = True\n",
    "\n",
    "print(\"name: \", end='')\n",
    "\n",
    "print(name)\n",
    "\n",
    "print(\"age: \", end='')\n",
    "\n",
    "print(age)"
   ]
  },
  {
   "cell_type": "markdown",
   "metadata": {},
   "source": [
    "# Function input()\n",
    "* var = input()\n",
    "* var = input(\"Prompt: \")"
   ]
  },
  {
   "cell_type": "code",
   "execution_count": null,
   "metadata": {
    "collapsed": true
   },
   "outputs": [],
   "source": [
    "name = input()\n",
    "print(\"My name is\", name)"
   ]
  },
  {
   "cell_type": "code",
   "execution_count": null,
   "metadata": {
    "collapsed": true
   },
   "outputs": [],
   "source": [
    "name = input(\"Enter your name: \")\n",
    "print(\"Hello,\", name)"
   ]
  },
  {
   "cell_type": "markdown",
   "metadata": {},
   "source": [
    "# String Concatenate\n",
    "* \"String1 \" + \"String2\"\n",
    "* \"String\" * integer"
   ]
  },
  {
   "cell_type": "code",
   "execution_count": null,
   "metadata": {
    "collapsed": true
   },
   "outputs": [],
   "source": [
    "s = \"String1\" + \"String2\"\n",
    "print(s)"
   ]
  },
  {
   "cell_type": "code",
   "execution_count": null,
   "metadata": {
    "collapsed": true
   },
   "outputs": [],
   "source": [
    "print(\"-\" * 20)"
   ]
  },
  {
   "cell_type": "code",
   "execution_count": null,
   "metadata": {
    "collapsed": true
   },
   "outputs": [],
   "source": [
    "print(\"un\" * 3 + \"ium\")"
   ]
  },
  {
   "cell_type": "markdown",
   "metadata": {},
   "source": [
    "** ข้อมูลที่ได้จากฟังก์ชัน input() จะเป็น String **"
   ]
  },
  {
   "cell_type": "code",
   "execution_count": null,
   "metadata": {
    "collapsed": false
   },
   "outputs": [],
   "source": [
    "num1 = input(\"Enter first number: \")\n",
    "num2 = input(\"Enter second number: \")\n",
    "print(\"num1 + num2 =\", num1 + num2)"
   ]
  },
  {
   "cell_type": "code",
   "execution_count": null,
   "metadata": {
    "collapsed": true
   },
   "outputs": [],
   "source": [
    "num1 = input(\"Enter first number: \")\n",
    "num2 = input(\"Enter second number: \")\n",
    "print(\"num1 * num2 =\", num1 * num2)"
   ]
  },
  {
   "cell_type": "markdown",
   "metadata": {},
   "source": [
    "# Function int(), float(), str()\n",
    "* int(data) เปลี่ยนข้อมูลเป็น integer\n",
    "* float(data) เปลี่ยนข้อมูลเป็น float\n",
    "* str(data) เปลี่ยนข้อมูลเป็น String"
   ]
  },
  {
   "cell_type": "code",
   "execution_count": null,
   "metadata": {
    "collapsed": false
   },
   "outputs": [],
   "source": [
    "var = \"100\"\n",
    "print(type(var)) # Function type(data) ใช้ตรวจสอบชนิดของข้อมูล\n",
    "print(var * 10)"
   ]
  },
  {
   "cell_type": "code",
   "execution_count": null,
   "metadata": {
    "collapsed": false
   },
   "outputs": [],
   "source": [
    "var = \"100\"\n",
    "print(var + 10) # String + integer  ไม่ได้"
   ]
  },
  {
   "cell_type": "code",
   "execution_count": null,
   "metadata": {
    "collapsed": false
   },
   "outputs": [],
   "source": [
    "var = \"100\"\n",
    "print(int(var) + 10) \n",
    "print(type(int(var) + 10))"
   ]
  },
  {
   "cell_type": "code",
   "execution_count": null,
   "metadata": {
    "collapsed": true
   },
   "outputs": [],
   "source": [
    "var = \"100\"\n",
    "print(var + str(10)) \n",
    "print(type(var + str(10)))"
   ]
  },
  {
   "cell_type": "code",
   "execution_count": null,
   "metadata": {
    "collapsed": false
   },
   "outputs": [],
   "source": [
    "print(float(\"678.12345\") + 9000)\n",
    "print(int(\"678\") + 9000)\n",
    "print(int(678.12345) + 9000)\n",
    "print(\"Data is \" + str(\"678.12345\"))\n",
    "# print(int(\"678.12345\") + 9000)"
   ]
  },
  {
   "cell_type": "code",
   "execution_count": null,
   "metadata": {
    "collapsed": true
   },
   "outputs": [],
   "source": [
    "num1 = input(\"Enter first number: \")\n",
    "num2 = input(\"Enter second number: \")\n",
    "result = int(num1) + int(num2)\n",
    "print(\"num1 + num2 =\", result)"
   ]
  },
  {
   "cell_type": "code",
   "execution_count": null,
   "metadata": {
    "collapsed": true
   },
   "outputs": [],
   "source": [
    "num1 = input(\"Enter first number: \")\n",
    "num2 = input(\"Enter second number: \")\n",
    "result = int(num1) + int(num2)\n",
    "print(\"num1 + num2 =\" + str(result))"
   ]
  },
  {
   "cell_type": "code",
   "execution_count": null,
   "metadata": {
    "collapsed": true
   },
   "outputs": [],
   "source": [
    "num1 = int(input(\"Enter first number: \"))\n",
    "num2 = int(input(\"Enter second number: \"))\n",
    "print(\"num1 + num2\", num1 + num2)"
   ]
  },
  {
   "cell_type": "markdown",
   "metadata": {},
   "source": [
    "# Function round(), abs(), pow()\n",
    "* round(x) คืนค่า (return) จำนวนเต็มที่ใกล้ที่สุดของ x\n",
    "* abs(x) คืนค่าสัมบูรณ์ของ x\n",
    "* pow(x, y) คืนค่า x ยกกำลัง y"
   ]
  },
  {
   "cell_type": "code",
   "execution_count": null,
   "metadata": {
    "collapsed": true
   },
   "outputs": [],
   "source": [
    "a = float(input(\"Enter float number: \"))\n",
    "print(\"round(a) =\", round(a))"
   ]
  },
  {
   "cell_type": "code",
   "execution_count": null,
   "metadata": {
    "collapsed": true
   },
   "outputs": [],
   "source": [
    "a = float(input(\"Enter negative number: \"))\n",
    "print(\"abs(a) =\", abs(a))"
   ]
  },
  {
   "cell_type": "code",
   "execution_count": null,
   "metadata": {
    "collapsed": false
   },
   "outputs": [],
   "source": [
    "b = float(input(\"Enter base b: \"))\n",
    "n = float(input(\"Enter exponent n: \"))\n",
    "print(\"n-th power of b is\", pow(b, n))\n",
    "print(\"b ** n =\", b ** n)"
   ]
  },
  {
   "cell_type": "markdown",
   "metadata": {},
   "source": [
    "# Input > Process > Output"
   ]
  },
  {
   "cell_type": "markdown",
   "metadata": {},
   "source": [
    "วัตถุชิ้นหนึ่ง เคลื่อนที่จากสภาพหยุดนิ่งด้วยความเร่ง a ${m/s^2}$ เป็นเวลา t วินาที<br>\n",
    "เขียนโปรแกรมเพื่อรับความเร่ง และเวลา จากนั้นคำนวณระยะที่วัตถุเคลื่อนที่ไปได้<br>\n",
    "สูตรคำนวณ $ S = ut + \\frac{1}{2} at^2 $"
   ]
  },
  {
   "cell_type": "code",
   "execution_count": null,
   "metadata": {
    "collapsed": true
   },
   "outputs": [],
   "source": [
    "# Input\n",
    "a = float(input(\"Enter acceleration: \"))\n",
    "t = float(input(\"Enter time: \"))\n",
    "\n",
    "# Process\n",
    "s = (1/2) * a * (t**2)\n",
    "\n",
    "# Output\n",
    "print(\"Distance:\", s)"
   ]
  },
  {
   "cell_type": "markdown",
   "metadata": {},
   "source": [
    "เขียนโปรแกรมเพื่อคำนวณพื้นที่สามเหลี่ยม เมื่อรับความยาวฐาน และส่วนสูงของสามเหลี่ยม เป็นจำนวนเต็ม"
   ]
  },
  {
   "cell_type": "code",
   "execution_count": null,
   "metadata": {
    "collapsed": true
   },
   "outputs": [],
   "source": [
    "# Input\n",
    "base = int(input(\"Enter base: \"))\n",
    "height = int(input(\"Enter height: \"))\n",
    "\n",
    "# Process\n",
    "area = (1/2) * base * height\n",
    "\n",
    "#Output\n",
    "print(\"Triangle area is\", area)"
   ]
  },
  {
   "cell_type": "markdown",
   "metadata": {},
   "source": [
    "เขียนโปรแกรมเพื่อรับจำนวนเต็ม ซึ่งเป็นความยาวมีหน่วยเป็นนิ้ว จากนั้น หาว่าความยาวนั้นเท่ากับกี่ฟุต กี่นิ้ว"
   ]
  },
  {
   "cell_type": "code",
   "execution_count": null,
   "metadata": {
    "collapsed": false
   },
   "outputs": [],
   "source": [
    "# Input\n",
    "length = int(input(\"Enter length in inch\"))\n",
    "\n",
    "# Process\n",
    "feet = length // 12\n",
    "inch = length % 12\n",
    "\n",
    "# Output\n",
    "print(\"It is\", feet, \"feet,\", inch, \"inch.\")"
   ]
  },
  {
   "cell_type": "markdown",
   "metadata": {},
   "source": [
    "### (Your Turn)\n",
    "เขียนโปรแกรมเพื่อแปลงหน่วยองศาเซลเซียส เป็นหน่วยองศาฟาเรนไฮต์<br>\n",
    "โดยรับจำนวนจริง (ทศนิยม) 1 จำนวน ซึ่งเป็น อุณหภูมิในหน่วยองศาเซลเซียส <br>\n",
    "สูตรคำนวณ $ \\frac{C}{5} = \\frac{F-32}{9} $ <br>\n",
    "* C คือ อุณหภูมิหน่วย celsius\n",
    "* F คือ อุณหภูมิหน่วย fahrenheit\n",
    "\n",
    "ตัวอย่าง <br>\n",
    "> Enter Celsius: 30.5<br>\n",
    "> 30.5 Celsius is 86.9 Fahrenheit"
   ]
  },
  {
   "cell_type": "code",
   "execution_count": null,
   "metadata": {
    "collapsed": false
   },
   "outputs": [],
   "source": [
    "# Your code here\n",
    "\n",
    "\n",
    "\n"
   ]
  },
  {
   "cell_type": "markdown",
   "metadata": {},
   "source": [
    "# Module math\n",
    "* import math\n",
    "\n",
    "ไว้บรรทัดแรกสุด เมื่อต้องการใช้ module math"
   ]
  },
  {
   "cell_type": "code",
   "execution_count": null,
   "metadata": {
    "collapsed": true
   },
   "outputs": [],
   "source": [
    "import math"
   ]
  },
  {
   "cell_type": "markdown",
   "metadata": {},
   "source": [
    "|module math | คำอธิบาย |\n",
    "|----|----|\n",
    "|`math.pi`|ค่า $ \\pi $ |\n",
    "|`math.floor(x)`|ปัดเศษของค่า x ลง (เหมือน `round(x)`)|\n",
    "|`math.ceil(x)`|ปัดเศษของค่า x ขึ้น |"
   ]
  },
  {
   "cell_type": "code",
   "execution_count": null,
   "metadata": {
    "collapsed": false
   },
   "outputs": [],
   "source": [
    "print(\"math.pi:\", math.pi)"
   ]
  },
  {
   "cell_type": "code",
   "execution_count": null,
   "metadata": {
    "collapsed": true
   },
   "outputs": [],
   "source": [
    "print(\"round(math.pi):\", round(math.pi))"
   ]
  },
  {
   "cell_type": "code",
   "execution_count": null,
   "metadata": {
    "collapsed": true
   },
   "outputs": [],
   "source": [
    "print(\"math.floor(math.pi):\", math.floor(math.pi))"
   ]
  },
  {
   "cell_type": "code",
   "execution_count": null,
   "metadata": {
    "collapsed": true
   },
   "outputs": [],
   "source": [
    "print(\"math.ceil(math.pi):\", math.ceil(math.pi))"
   ]
  },
  {
   "cell_type": "markdown",
   "metadata": {},
   "source": [
    "|module math | คำอธิบาย |\n",
    "|----|----|\n",
    "|`math.fabs(x)`|ค่าสัมบูรณ์ของ x เหมือน `abs(x)` แต่ return เป็น float และใช้กับ complex ไม่ได้|\n",
    "|`math.sin(x)`|ค่า sine ของมุม x (หน่วย radian)|\n",
    "|`math.cos(x)`|ค่า cosine ของมุม x (หน่วย radian)|\n",
    "|`math.tan(x)`|ค่า tangent ของมุม x (หน่วย radian)|"
   ]
  },
  {
   "cell_type": "code",
   "execution_count": null,
   "metadata": {
    "collapsed": false
   },
   "outputs": [],
   "source": [
    "radian = - 3 * math.pi / 2\n",
    "print(\"fabs:\", math.fabs(radian))\n",
    "print(\"sin:\", math.sin(radian))\n",
    "print(\"cos:\", math.cos(radian))\n",
    "print(\"tan:\", math.tan(radian))\n",
    "print(\"sin2 + cos2:\", math.sin(radian) ** 2 + math.cos(radian) ** 2)"
   ]
  },
  {
   "cell_type": "markdown",
   "metadata": {},
   "source": [
    "|module math | คำอธิบาย |\n",
    "|----|----|\n",
    "|`math.e`|ค่า $e$|\n",
    "|`math.log(x)`|ค่า $ ln(x) $|\n",
    "|`math.log10(x)`|ค่า $ log(x) $|\n",
    "|`math.exp(x)`|ค่า $ e^x $|\n",
    "|`math.sqrt(x)`|ค่า $ \\sqrt{x} $|"
   ]
  },
  {
   "cell_type": "code",
   "execution_count": null,
   "metadata": {
    "collapsed": false
   },
   "outputs": [],
   "source": [
    "print(\"e:\", math.e)\n",
    "print(\"ln(e):\", math.log(math.e))\n",
    "print(\"log(1000):\", math.log10(1000))\n",
    "print(\"exp(1/e):\", math.exp(1 / math.e))\n",
    "print(\"sqrt(25):\", math.sqrt(25))"
   ]
  },
  {
   "cell_type": "markdown",
   "metadata": {},
   "source": [
    "เขียนโปรแกรมเพื่อรับค่า r (รัศมีของฐานทรงกระบอก) และ h (ความสูงของทรงกระบอก) <br>\n",
    "จากนั้น คำนวณปริมาตรของทรงกระบอก"
   ]
  },
  {
   "cell_type": "code",
   "execution_count": null,
   "metadata": {
    "collapsed": false
   },
   "outputs": [],
   "source": [
    "import math\n",
    "# Input\n",
    "r = float(input(\"Enter radius: \"))\n",
    "h = float(input(\"Enter height: \"))\n",
    "\n",
    "# Process\n",
    "volumn = math.pi * (r**2) * h\n",
    "\n",
    "# Output\n",
    "print(\"Volumn:\", volumn)"
   ]
  },
  {
   "cell_type": "markdown",
   "metadata": {},
   "source": [
    "### (Your Turn)\n",
    "เขียนโปรแกรมเพื่อคำนวณความยาวรอบรูปสามเหลี่ยมมุมฉาก<br>\n",
    "โดยรับจำนวนเต็ม 2 จำนวน ซึ่งเป็นความยาวของด้านประกอบมุมฉากทั้งสองด้าน <br>\n",
    "ตัวอย่าง <br>\n",
    "> Enter length 1: 30<br>\n",
    "> Enter length 2: 40<br>\n",
    "> The perimeter of right triangle is 120.0"
   ]
  },
  {
   "cell_type": "code",
   "execution_count": null,
   "metadata": {
    "collapsed": true
   },
   "outputs": [],
   "source": [
    "# Your code here\n",
    "\n",
    "\n"
   ]
  }
 ],
 "metadata": {
  "kernelspec": {
   "display_name": "Python 3",
   "language": "python",
   "name": "python3"
  },
  "language_info": {
   "codemirror_mode": {
    "name": "ipython",
    "version": 3
   },
   "file_extension": ".py",
   "mimetype": "text/x-python",
   "name": "python",
   "nbconvert_exporter": "python",
   "pygments_lexer": "ipython3",
   "version": "3.4.4"
  }
 },
 "nbformat": 4,
 "nbformat_minor": 0
}
