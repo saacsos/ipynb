{
 "cells": [
  {
   "cell_type": "markdown",
   "metadata": {},
   "source": [
    "# Variable (ตัวแปร)\n",
    "* ตัวแปร ไว้อ้างถึงข้อมูลต่าง ๆ\n",
    "* ชื่อตัวแปรควรสื่อความหมายของค่าที่เก็บ\n",
    "* ชนิดของข้อมูล (Data Type) โดยพื้นฐานมี 4 รูปแบบ คือ\n",
    "    * String (สายอักขระ)\n",
    "    * int (จำนวนเต็ม - จำนวนเต็มบวก จำนวนเต็มลบ จำนวนเต็มศูนย์)\n",
    "    * float (ทศนิยม)\n",
    "    * boolean (จริง / เท็จ)"
   ]
  },
  {
   "cell_type": "markdown",
   "metadata": {},
   "source": [
    "### Assignment (การกำหนดค่าให้ตัวแปร)\n",
    "* ใช้เครื่องหมาย =\n",
    "* กำหนดค่าทางขวา ให้ ตัวแปร ทางซ้าย"
   ]
  },
  {
   "cell_type": "code",
   "execution_count": null,
   "metadata": {
    "collapsed": false
   },
   "outputs": [],
   "source": [
    "# ตัวแปร name เก็บข้อมูล ชื่อ ซึ่งมี Type เป็น String\n",
    "name = \"Alice\"\n",
    "# ตัวแปร age เก็บข้อมูล อายุ ซึ่งมี Type เป็น int\n",
    "age = 18\n",
    "# ตัวแปร weight เก็บข้อมูล น้ำหนัก ซึ่งมี Type เป็น float\n",
    "weight = 50.3\n",
    "# ตัวแปร is_easy เก็บข้อมูล ความง่าย ซึ่งมี Type เป็น boolean\n",
    "is_easy = True\n",
    "# ฟังก์ชัน print() ใช้สำหรับพิมพ์ข้อมูล\n",
    "print(name)\n",
    "print(age)\n",
    "print(weight)\n",
    "print(is_easy)"
   ]
  },
  {
   "cell_type": "markdown",
   "metadata": {},
   "source": [
    "* ตัวแปรอยู่ทางซ้ายของเครื่องหมาย = เป็นตัวแปรที่ถูกกำหนดค่าใหม่\n",
    "* ถ้าตัวแปรอยู่ตำแหน่งอื่น เป็นการนำค่าที่ตัวแปรเก็บ ไปใช้งาน (เช่น การคำนวณ)\n",
    "* การกำหนดค่าครั้งแรก อาจเรียกว่า การประกาศตัวแปร (declaration)"
   ]
  },
  {
   "cell_type": "code",
   "execution_count": null,
   "metadata": {
    "collapsed": false
   },
   "outputs": [],
   "source": [
    "number = 2 # assignment ครั้งแรก หรือ การประกาศ\n",
    "print(number) # สังเกตผลลัพธ์บรรทัดที่ 1\n",
    "\n",
    "print(number + 20) # number ไม่อยู่หน้าเครื่องหมาย = เป็นการนำค่าที่เก็บมาใช้\n",
    "                            # สังเกตผลลัพธ์บรรทัดที่ 2\n",
    "\n",
    "print(number)  # ดังนั้น จะไม่ส่งผลกับค่าที่เก็บอยู่เดิม\n",
    "                        # สังเกตผลลัพธ์บรรทัดที่ 3\n",
    "\n",
    "number = number + 1 #  number ทางขวา คือค่า 2 และมี number ทางซ้ายของเครื่องหมาย =\n",
    "print(number)  # ดังนั้น number เปลี่ยนค่าไปแล้ว\n",
    "                        # สังเกตผลลัพธ์บรรทัดที่ 4"
   ]
  },
  {
   "cell_type": "markdown",
   "metadata": {},
   "source": [
    "# Mathmetics Operators (ตัวดำเนินการทางคณิตศาสตร์)"
   ]
  },
  {
   "cell_type": "markdown",
   "metadata": {},
   "source": [
    "## Operator Precedences (ลำดับความสำคัญของตัวดำเนินการ)\n",
    "> PEMDAS\n",
    "\n",
    "### ลำดับ 1 (สูงสุด ทำก่อนเสมอ) Parenthesis วงเล็บ\n",
    "> ทำในวงเล็บก่อน\n",
    "\n",
    "### ลำดับ 2 Exponents ยกกำลัง\n",
    "> ทำจากขวาไปซ้าย\n",
    "\n",
    "* a \\*\\* b   \n",
    "a ยกกำลัง b\n",
    "\n",
    "### ลำดับ 3 Multiplication, Division คูณ หาร\n",
    "> ทำจากซ้ายไปขวา\n",
    "\n",
    "* a \\* b      \n",
    "a คูณ b\n",
    "* a / b        \n",
    "a หารด้วย b\n",
    "* a // b       \n",
    "a หารด้วย b คำตอบปัดเศษทิ้ง\n",
    "* a % b      \n",
    "a หารด้วย b คำตอบเอาเฉพาะเศษ (modulo, modulus, mod)\n",
    "\n",
    "### ลำดับ 4 Addition, Subtraction บวก ลบ\n",
    "> ทำจากซ้ายไปขวา\n",
    "\n",
    "* a + b\n",
    "a บวก b\n",
    "* a - b\n",
    "a ลบ b"
   ]
  },
  {
   "cell_type": "code",
   "execution_count": null,
   "metadata": {
    "collapsed": true
   },
   "outputs": [],
   "source": [
    "print((12 / 6) * (15 - 10))"
   ]
  },
  {
   "cell_type": "code",
   "execution_count": null,
   "metadata": {
    "collapsed": true
   },
   "outputs": [],
   "source": [
    "print(12 / 6 * 15 - 10)"
   ]
  },
  {
   "cell_type": "code",
   "execution_count": null,
   "metadata": {
    "collapsed": true
   },
   "outputs": [],
   "source": [
    "print(2 + 5 * 6 / 3 + (7 - 2 * 3))"
   ]
  },
  {
   "cell_type": "code",
   "execution_count": null,
   "metadata": {
    "collapsed": true
   },
   "outputs": [],
   "source": [
    "print(2 ** 2 ** 3)"
   ]
  },
  {
   "cell_type": "code",
   "execution_count": null,
   "metadata": {
    "collapsed": true
   },
   "outputs": [],
   "source": [
    "a = 10\n",
    "print (a * 5 + 2 - a // 3)"
   ]
  },
  {
   "cell_type": "code",
   "execution_count": null,
   "metadata": {
    "collapsed": true
   },
   "outputs": [],
   "source": [
    "a = 10\n",
    "b = 3\n",
    "print (20 - a * b + b / a - a % b)"
   ]
  },
  {
   "cell_type": "markdown",
   "metadata": {},
   "source": [
    "### (Your Turn)"
   ]
  },
  {
   "cell_type": "code",
   "execution_count": null,
   "metadata": {
    "collapsed": true
   },
   "outputs": [],
   "source": [
    "a = 768\n",
    "# พิมพ์เลขในหลักหน่วยของค่าในตัวแปร a\n",
    "\n",
    "# พิมพ์เลขในหลักสิบของค่าในตัวแปร a\n",
    "\n",
    "# พิมพ์เลขในหลักร้อยของค่าในตัวแปร a\n",
    "\n",
    "# พิมพ์ผลรวมของเลขโดดในหลักหน่วย หลักสิบ และหลักร้อย ของค่าในตัวแปร a\n"
   ]
  },
  {
   "cell_type": "markdown",
   "metadata": {},
   "source": [
    "# Function print()\n",
    "* print()\n",
    "* print(data1, data2, data3, data4)\n",
    "* print(data, end='')"
   ]
  },
  {
   "cell_type": "code",
   "execution_count": null,
   "metadata": {
    "collapsed": false
   },
   "outputs": [],
   "source": [
    "name = \"Alice\"\n",
    "age = 18\n",
    "weight = 50.3\n",
    "is_easy = True\n",
    "\n",
    "print(name)\n",
    "\n",
    "print()\n",
    "\n",
    "print(age)\n",
    "\n",
    "print()\n",
    "\n",
    "print(weight)\n",
    "\n",
    "print(is_easy)"
   ]
  },
  {
   "cell_type": "code",
   "execution_count": null,
   "metadata": {
    "collapsed": false
   },
   "outputs": [],
   "source": [
    "name = \"Alice\"\n",
    "age = 18\n",
    "weight = 50.3\n",
    "is_easy = True\n",
    "\n",
    "print(name, age, weight, is_easy)\n",
    "\n",
    "print(\"name\", name, \"age\", age)\n",
    "\n",
    "print(\"weight:\", weight, \"Kg\")"
   ]
  },
  {
   "cell_type": "code",
   "execution_count": null,
   "metadata": {
    "collapsed": true
   },
   "outputs": [],
   "source": [
    "name = \"Alice\"\n",
    "age = 18\n",
    "weight = 50.3\n",
    "is_easy = True\n",
    "\n",
    "print(\"name: \", end='')\n",
    "\n",
    "print(name)\n",
    "\n",
    "print(\"age: \", end='')\n",
    "\n",
    "print(age)"
   ]
  }
 ],
 "metadata": {
  "kernelspec": {
   "display_name": "Python 3",
   "language": "python",
   "name": "python3"
  },
  "language_info": {
   "codemirror_mode": {
    "name": "ipython",
    "version": 3
   },
   "file_extension": ".py",
   "mimetype": "text/x-python",
   "name": "python",
   "nbconvert_exporter": "python",
   "pygments_lexer": "ipython3",
   "version": "3.4.4"
  }
 },
 "nbformat": 4,
 "nbformat_minor": 0
}
