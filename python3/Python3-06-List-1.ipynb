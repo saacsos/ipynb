{
 "cells": [
  {
   "cell_type": "markdown",
   "metadata": {},
   "source": [
    "# List (รายการ)\n",
    "\n",
    "* เป็นโครงสร้างข้อมูลที่ Python มีให้\n",
    "* เขียนอยู่ในเครื่องหมายวงเล็บเหลี่ยม โดยคั่นข้อมูลแต่ละค่าด้วย comma\n",
    "* ชื่อตัวแปรที่เก็บข้อมูลแบบ List ควรเป็น พหูพจน์"
   ]
  },
  {
   "cell_type": "markdown",
   "metadata": {},
   "source": [
    "#### ตัวอย่าง List"
   ]
  },
  {
   "cell_type": "code",
   "execution_count": null,
   "metadata": {
    "collapsed": false
   },
   "outputs": [],
   "source": [
    "# List ของจำนวนเต็ม\n",
    "scores = [16, 32, 64, 2, 11, 9]\n",
    "print(scores)"
   ]
  },
  {
   "cell_type": "code",
   "execution_count": null,
   "metadata": {
    "collapsed": true
   },
   "outputs": [],
   "source": [
    "# List ของ String\n",
    "days = ['Sunday', 'Monday', 'Tuesday', 'Wednesday', 'Thursday', 'Friday', 'Saturday']\n",
    "print(days)"
   ]
  },
  {
   "cell_type": "markdown",
   "metadata": {},
   "source": [
    "### Index และการอ้างถึง (Access) ข้อมูลใน List \n",
    "* Index ของ List เริ่มที่ 0"
   ]
  },
  {
   "cell_type": "code",
   "execution_count": null,
   "metadata": {
    "collapsed": false
   },
   "outputs": [],
   "source": [
    "scores = [16, 32, 64, 2, 11, 9]\n",
    "print(scores[0])\n",
    "print(scores[1])\n",
    "print(scores[2])"
   ]
  },
  {
   "cell_type": "code",
   "execution_count": null,
   "metadata": {
    "collapsed": false
   },
   "outputs": [],
   "source": [
    "# ใช้ While Loop เพื่อแสดงข้อมูลใน List ทีละบรรทัด\n",
    "scores = [16, 32, 64, 2, 11, 9]\n",
    "index = 0\n",
    "while index < 6:\n",
    "    print(scores[index])\n",
    "    index = index + 1"
   ]
  },
  {
   "cell_type": "code",
   "execution_count": null,
   "metadata": {
    "collapsed": true
   },
   "outputs": [],
   "source": [
    "# ผลลัพธ์คืออะไร (ทายก่อนรัน)\n",
    "ps = [2,3,5,7,11]\n",
    "i = 0\n",
    "while i < 5:\n",
    "    print(ps[i])\n",
    "    i = i + 2"
   ]
  },
  {
   "cell_type": "code",
   "execution_count": null,
   "metadata": {
    "collapsed": true
   },
   "outputs": [],
   "source": [
    "# ผลลัพธ์คืออะไร (ทายก่อนรัน)\n",
    "ps = [2, 3, 5, 7, 11, 13]\n",
    "nn = [1, 2, 1, 1, 2, 1]\n",
    "i = 0\n",
    "while i < 6:\n",
    "    print(ps[i])\n",
    "    i = i + nn[i]"
   ]
  },
  {
   "cell_type": "markdown",
   "metadata": {},
   "source": [
    "### การแก้ไขข้อมูลใน List"
   ]
  },
  {
   "cell_type": "code",
   "execution_count": null,
   "metadata": {
    "collapsed": false
   },
   "outputs": [],
   "source": [
    "scores = [10, 20, 30, 40, 50]\n",
    "scores[2] = 5\n",
    "print(scores)"
   ]
  },
  {
   "cell_type": "code",
   "execution_count": null,
   "metadata": {
    "collapsed": false
   },
   "outputs": [],
   "source": [
    "scores[4] += 7\n",
    "print(scores)"
   ]
  },
  {
   "cell_type": "code",
   "execution_count": null,
   "metadata": {
    "collapsed": false
   },
   "outputs": [],
   "source": [
    "# ผลลัพธ์คืออะไร (ทายก่อนรัน)\n",
    "scores[0] = scores[0] + scores[1] + scores[2]\n",
    "print(scores)"
   ]
  },
  {
   "cell_type": "code",
   "execution_count": null,
   "metadata": {
    "collapsed": true
   },
   "outputs": [],
   "source": [
    "# ผลลัพธ์คืออะไร (ทายก่อนรัน)\n",
    "ps = [1, 2, 1, 3, 1, 4]\n",
    "t = 0\n",
    "j = 0\n",
    "while j < 6:\n",
    "    if ps[j] < t:\n",
    "        t = ps[j]\n",
    "    else:\n",
    "        ps[j] = t\n",
    "    print(ps[j])\n",
    "    j += 1"
   ]
  },
  {
   "cell_type": "markdown",
   "metadata": {},
   "source": [
    "### List รูปแบบอื่น ๆ\n",
    "* List อาจเก็บข้อมูลที่ต่าง Type กันได้"
   ]
  },
  {
   "cell_type": "code",
   "execution_count": null,
   "metadata": {
    "collapsed": true
   },
   "outputs": [],
   "source": [
    "student_info = [\"John Doe\", 20, 167, 78.5]\n",
    "print(student_info[0])\n",
    "print(student_info[1])\n",
    "print(student_info[2])\n",
    "print(student_info[3])"
   ]
  },
  {
   "cell_type": "markdown",
   "metadata": {},
   "source": [
    "* Empty List (รายการว่าง)"
   ]
  },
  {
   "cell_type": "code",
   "execution_count": null,
   "metadata": {
    "collapsed": false
   },
   "outputs": [],
   "source": [
    "emp = []\n",
    "print(emp)\n",
    "# หากพยายาม access ข้อมูลใน Empty List หรือ List ที่ไม่มี Index นั้น\n",
    "print(emp[0])"
   ]
  },
  {
   "cell_type": "markdown",
   "metadata": {},
   "source": [
    "### คำสั่ง For (For Loop)"
   ]
  },
  {
   "cell_type": "code",
   "execution_count": null,
   "metadata": {
    "collapsed": true
   },
   "outputs": [],
   "source": [
    "# เทียบกับการใช้ While Loop เพื่อแสดงข้อมูลใน List ทีละบรรทัด\n",
    "scores = [16, 32, 64, 2, 11, 9]\n",
    "index = 0\n",
    "while index < 6:\n",
    "    print(scores[index])\n",
    "    index = index + 1"
   ]
  },
  {
   "cell_type": "code",
   "execution_count": null,
   "metadata": {
    "collapsed": true
   },
   "outputs": [],
   "source": [
    "# ใช้ For Loop เพื่อแสดงข้อมูลใน List ทีละบรรทัด\n",
    "scores = [16, 32, 64, 2, 11, 9]\n",
    "for score in scores:\n",
    "    print(score)"
   ]
  },
  {
   "cell_type": "code",
   "execution_count": null,
   "metadata": {
    "collapsed": true
   },
   "outputs": [],
   "source": [
    "for item in [2, 3, 5, 7, 11, 13, 17, 19]:\n",
    "    print(item)"
   ]
  },
  {
   "cell_type": "code",
   "execution_count": null,
   "metadata": {
    "collapsed": true
   },
   "outputs": [],
   "source": [
    "# ใช้ For ในการเข้าถึงด้วย Index\n",
    "scores = [16, 32, 64, 2, 11, 9]\n",
    "for i in [0, 1, 2, 3, 4, 5]:\n",
    "    print(scores[i])"
   ]
  },
  {
   "cell_type": "markdown",
   "metadata": {},
   "source": [
    "### ฟังก์ชัน range()\n",
    "* range(start, end, step)\n",
    "* range(start, end)\n",
    "* range(end)"
   ]
  },
  {
   "cell_type": "code",
   "execution_count": null,
   "metadata": {
    "collapsed": false
   },
   "outputs": [],
   "source": [
    "print(range(0, 20, 1))\n",
    "# ใช้ฟังก์ชัน list() เพื่อเปลี่ยนให้เป็น List\n",
    "print(list(range(0, 20, 1)))"
   ]
  },
  {
   "cell_type": "code",
   "execution_count": null,
   "metadata": {
    "collapsed": true
   },
   "outputs": [],
   "source": [
    "print(range(10, 20, 1))\n",
    "print(list(range(10, 20, 1)))"
   ]
  },
  {
   "cell_type": "code",
   "execution_count": null,
   "metadata": {
    "collapsed": true
   },
   "outputs": [],
   "source": [
    "print(range(30, 20, -1))\n",
    "print(list(range(30, 20, -1)))"
   ]
  },
  {
   "cell_type": "code",
   "execution_count": null,
   "metadata": {
    "collapsed": false
   },
   "outputs": [],
   "source": [
    "# ถ้าไม่ใส่ step: default step = 1\n",
    "print(list(range(10, 20)))\n",
    "print(list(range(30, 20)))"
   ]
  },
  {
   "cell_type": "code",
   "execution_count": null,
   "metadata": {
    "collapsed": false
   },
   "outputs": [],
   "source": [
    "# ถ้าใส่ parameter ตัวเดียว: default start = 0, default step = 1\n",
    "print(list(range(20)))"
   ]
  },
  {
   "cell_type": "code",
   "execution_count": null,
   "metadata": {
    "collapsed": false
   },
   "outputs": [],
   "source": [
    "# ฟังก์ชัน count_factors(number) คืนค่าจำนวนของจำนวนเต็มที่หาร number ลงตัว\n",
    "def count_factors(number):\n",
    "    count = 0\n",
    "    for factor in range(1, number+1):\n",
    "        if number % factor == 0:\n",
    "            count += 1\n",
    "    return count\n",
    "\n",
    "print(count_factors(4))"
   ]
  },
  {
   "cell_type": "markdown",
   "metadata": {},
   "source": [
    "###### (Your Turn)"
   ]
  },
  {
   "cell_type": "code",
   "execution_count": null,
   "metadata": {
    "collapsed": true
   },
   "outputs": [],
   "source": [
    "# ใช้ For Loop ในการเข้าถึงด้วย Index แล้วแสดงข้อมูลทีละบรรทัด\n",
    "# เปลี่ยนไปใช้ range\n",
    "scores = [16, 32, 64, 2, 11, 9]\n",
    "# your code here\n"
   ]
  },
  {
   "cell_type": "code",
   "execution_count": null,
   "metadata": {
    "collapsed": true
   },
   "outputs": [],
   "source": [
    "# ใช้ For Loop เพื่อพิมพ์จำนวนวันของแต่ละเดือน\n",
    "# โดยจับคู่ Index ที่ตรงกันระหว่าง months และ days_in_month\n",
    "months = ['Jan', 'Feb', 'Mar', 'Apr', 'May', 'Jun', 'Jul', 'Aug', 'Sep', 'Oct', 'Nov', 'Dec']\n",
    "days_in_month = [31, 28, 31, 30, 31, 30, 31, 31, 30, 31, 30, 31]\n",
    "# Your code here\n"
   ]
  },
  {
   "cell_type": "markdown",
   "metadata": {},
   "source": [
    "### List Operator\n",
    "* +\n",
    "* *"
   ]
  },
  {
   "cell_type": "code",
   "execution_count": null,
   "metadata": {
    "collapsed": true
   },
   "outputs": [],
   "source": [
    "# นำ List มาบวกกัน\n",
    "print([1, 2] + [5, 10, 15])\n",
    "\n",
    "list1 = [1, 2]\n",
    "list2 = [5, 10, 15]\n",
    "print(list1 + list2)"
   ]
  },
  {
   "cell_type": "code",
   "execution_count": null,
   "metadata": {
    "collapsed": true
   },
   "outputs": [],
   "source": [
    "# นำจำนวนเต็มมาคูณกับ List\n",
    "print([1, 2, 3, 4] * 3)\n",
    "\n",
    "a_list = [0] * 10\n",
    "print(a_list)"
   ]
  },
  {
   "cell_type": "markdown",
   "metadata": {},
   "source": [
    "### List Functions\n",
    "* len(list) คืนจำนวนสมาชิก\n",
    "* sum(list) คืนผลรวม\n",
    "* max(list) คืนค่ามากที่สุด\n",
    "* min(list) คืนค่าน้อยที่สุด"
   ]
  },
  {
   "cell_type": "code",
   "execution_count": null,
   "metadata": {
    "collapsed": false
   },
   "outputs": [],
   "source": [
    "scores = [16, 32, 64, 2, 11, 9]\n",
    "print(\"Length of scores: %d\" % len(scores))\n",
    "print(\"Sum of scores: %d\" % sum(scores))\n",
    "print(\"Minimum of scores: %d\" % max(scores))\n",
    "print(\"Minimum of scores: %d\" % min(scores))"
   ]
  },
  {
   "cell_type": "markdown",
   "metadata": {},
   "source": [
    "###### (Your Turn)"
   ]
  },
  {
   "cell_type": "code",
   "execution_count": null,
   "metadata": {
    "collapsed": true
   },
   "outputs": [],
   "source": [
    "# สร้างฟังก์ชัน average(l) \n",
    "# โดยรับ l ซึ่งเป็น List ของข้อมูลจำนวนเต็มชุดหนึ่ง\n",
    "# แล้วคืนค่า ค่าเฉลี่ยของข้อมูลใน List นั้น\n",
    "def average(l):\n",
    "    # Your code here\n",
    "\n",
    "    \n",
    "scores = [16, 32, 64, 2, 11, 9]\n",
    "print(\"Average score: %.2f\" % average(scores))\n",
    "scores = []\n",
    "print(\"Average score: %.2f\" % average(scores))"
   ]
  },
  {
   "cell_type": "code",
   "execution_count": null,
   "metadata": {
    "collapsed": false
   },
   "outputs": [],
   "source": [
    "# สร้างฟังก์ชัน count_element(l) เลียนแบบการทำงานของฟังก์ชัน len(l)\n",
    "# โดยรับ l ซึ่งเป็น List ของข้อมูลชุดหนึ่ง\n",
    "# แล้วคืนค่า จำนวนสมาชิกใน List นั้น\n",
    "# โดยใช้ For Loop และไม่ใช้ฟังก์ชัน len()\n",
    "def count_element(l):\n",
    "    # Your code here\n",
    "\n",
    "    \n",
    "scores = [16, 32, 64, 2, 11, 9]\n",
    "print(\"count_element(scores): %d\" % count_element(scores))\n",
    "print(\"len(scores): %d\" % len(scores))"
   ]
  },
  {
   "cell_type": "code",
   "execution_count": null,
   "metadata": {
    "collapsed": true
   },
   "outputs": [],
   "source": [
    "# สร้างฟังก์ชัน sum_element(l) เลียนแบบการทำงานของฟังก์ชัน sum(l)\n",
    "# โดยรับ l ซึ่งเป็น List ของข้อมูลจำนวนเต็มชุดหนึ่ง\n",
    "# แล้วคืนค่า ผลรวมของข้อมูลใน List นั้น\n",
    "# โดยใช้ For Loop และไม่ใช้ฟังก์ชัน sum()\n",
    "def sum_element(l):\n",
    "    # Your code here\n",
    "\n",
    "    \n",
    "scores = [16, 32, 64, 2, 11, 9]\n",
    "print(\"sum_element(scores): %d\" % sum_element(scores))\n",
    "print(\"sum(scores): %d\" % sum(scores))"
   ]
  },
  {
   "cell_type": "code",
   "execution_count": null,
   "metadata": {
    "collapsed": true
   },
   "outputs": [],
   "source": [
    "# สร้างฟังก์ชัน max_element(l) เลียนแบบการทำงานของฟังก์ชัน max(l)\n",
    "# โดยรับ l ซึ่งเป็น List ของข้อมูลจำนวนเต็มชุดหนึ่ง\n",
    "# แล้วคืนค่า จำนวนที่มากที่สุด ใน List นั้น\n",
    "# โดยใช้ For Loop และไม่ใช้ฟังก์ชัน max()\n",
    "def max_element(l):\n",
    "    # Your code here\n",
    "    \n",
    "    \n",
    "scores = [16, 32, 64, 2, 11, 9]\n",
    "print(\"max_element(scores): %d\" % max_element(scores))\n",
    "print(\"max(scores): %d\" % max(scores))"
   ]
  },
  {
   "cell_type": "code",
   "execution_count": null,
   "metadata": {
    "collapsed": true
   },
   "outputs": [],
   "source": [
    "# สร้างฟังก์ชัน min_element(l) เลียนแบบการทำงานของฟังก์ชัน min(l)\n",
    "# โดยรับ l ซึ่งเป็น List ของข้อมูลจำนวนเต็มชุดหนึ่ง\n",
    "# แล้วคืนค่า จำนวนที่น้อยที่สุด ใน List นั้น\n",
    "# โดยใช้ For Loop และไม่ใช้ฟังก์ชัน min()\n",
    "def min_element(l):\n",
    "    # Your code here\n",
    "    \n",
    "    \n",
    "scores = [16, 32, 64, 2, 11, 9]\n",
    "print(\"min_element(scores): %d\" % min_element(scores))\n",
    "print(\"min(scores): %d\" % min(scores))"
   ]
  },
  {
   "cell_type": "markdown",
   "metadata": {},
   "source": [
    "### การเพิ่มข้อมูลในรายการ\n",
    "* list.append(data)"
   ]
  },
  {
   "cell_type": "code",
   "execution_count": null,
   "metadata": {
    "collapsed": true
   },
   "outputs": [],
   "source": [
    "scores = []\n",
    "\n",
    "scores.append(20)\n",
    "print(scores)\n",
    "\n",
    "score = 30\n",
    "scores.append(score)\n",
    "print(scores)"
   ]
  },
  {
   "cell_type": "code",
   "execution_count": null,
   "metadata": {
    "collapsed": true
   },
   "outputs": [],
   "source": [
    "# จะเกิดอะไรขึ้น ถ้า append List ไปให้ List\n"
   ]
  },
  {
   "cell_type": "code",
   "execution_count": null,
   "metadata": {
    "collapsed": false
   },
   "outputs": [],
   "source": [
    "# ฟังก์ชัน factors(number) คืนค่า List ของจำนวนเต็มทั้งหมดที่หาร number ลงตัว\n",
    "def factors(number):\n",
    "    factors = []\n",
    "    for factor in range(1, number+1):\n",
    "        if number % factor == 0:\n",
    "            factors.append(factor)\n",
    "    return factors\n",
    "\n",
    "print(factors(4))"
   ]
  },
  {
   "cell_type": "code",
   "execution_count": null,
   "metadata": {
    "collapsed": true
   },
   "outputs": [],
   "source": [
    "# ฟังก์ชันรับข้อมูลจำนวนเต็มจากผู้ใช้ ไปใส่ใน List จนกระทั่งผู้ใช้พิมพ์ -1\n",
    "def read_list():\n",
    "    print(\"Enter list (-1 to end): \")\n",
    "    data = []\n",
    "    x = int(input(\"Enter a number: \"))\n",
    "    while x != -1:\n",
    "        data.append(x)\n",
    "        x = int(input(\"Enter a number: \"))\n",
    "    return data"
   ]
  },
  {
   "cell_type": "code",
   "execution_count": null,
   "metadata": {
    "collapsed": true
   },
   "outputs": [],
   "source": [
    "# ใช้ฟังก์ชัน read_list() เพื่อรับข้อมูลจากผู้ใช้ แล้วสร้างเป็น List\n",
    "# จากนั้นแสดงผลรวม ค่าเฉลี่ย ค่าที่มากสุด และค่าที่น้อยสุด\n",
    "numbers = read_list()\n",
    "print(\"Average: %.2f\" % ___)\n",
    "print(\"Sum: %d\" % ___)\n",
    "print(\"Max: %d\" % ___)\n",
    "print(\"Min: %d\" % ___)"
   ]
  },
  {
   "cell_type": "markdown",
   "metadata": {},
   "source": [
    "###### (Your Turn)"
   ]
  },
  {
   "cell_type": "code",
   "execution_count": null,
   "metadata": {
    "collapsed": true
   },
   "outputs": [],
   "source": [
    "# ฟังก์ชัน read_list() ในตัวอย่าง ไม่เป็นไปตามขั้นตอน input > process > output\n",
    "# เปลี่ยนฟังก์ชัน read_list() \n",
    "# โดยใช้ While True และ break\n",
    "def read_list():\n",
    "    "
   ]
  },
  {
   "cell_type": "code",
   "execution_count": null,
   "metadata": {
    "collapsed": true
   },
   "outputs": [],
   "source": [
    "# ใช้ฟังก์ชัน read_list() เพื่อรับข้อมูลจากผู้ใช้ แล้วสร้างเป็น List\n",
    "# จากนั้นแสดงผลรวมของกำลังสองของจำนวนที่หารด้วย 3 ลงตัว\n",
    "\n"
   ]
  },
  {
   "cell_type": "code",
   "execution_count": null,
   "metadata": {
    "collapsed": true
   },
   "outputs": [],
   "source": [
    "# สร้างฟังก์ชัน is_prime(number) เพื่อตรวจสอบว่า number เป็นจำนวนเฉพาะหรือไม่\n",
    "# โดยรับ number เป็นจำนวนเต็มบวก\n",
    "# คืนค่า (return) True เมื่อ number เป็น จำนวนเฉพาะ\n",
    "# คืนค่า (return) False เมื่อ number ไม่เป็น จำนวนเฉพาะ\n",
    "# จำนวนเฉพาะ คือ จำนวนเต็มบวกที่มีจำนวนเต็มบวกหารลงตัวทั้งสิ้น 2 จำนวน\n",
    "\n"
   ]
  },
  {
   "cell_type": "code",
   "execution_count": null,
   "metadata": {
    "collapsed": true
   },
   "outputs": [],
   "source": [
    "# ใช้ฟังก์ชัน read_list() เพื่อรับข้อมูลจากผู้ใช้ แล้วสร้างเป็น List\n",
    "# จากนั้นแสดง List ของจำนวนเฉพาะจากข้อมูลที่รับจากผู้ใช้\n"
   ]
  }
 ],
 "metadata": {
  "kernelspec": {
   "display_name": "Python 3",
   "language": "python",
   "name": "python3"
  },
  "language_info": {
   "codemirror_mode": {
    "name": "ipython",
    "version": 3
   },
   "file_extension": ".py",
   "mimetype": "text/x-python",
   "name": "python",
   "nbconvert_exporter": "python",
   "pygments_lexer": "ipython3",
   "version": "3.5.2"
  }
 },
 "nbformat": 4,
 "nbformat_minor": 0
}
