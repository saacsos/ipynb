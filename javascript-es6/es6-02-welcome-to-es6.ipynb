{
 "cells": [
  {
   "cell_type": "markdown",
   "metadata": {},
   "source": [
    "# Table of Contents\n",
    "* Welcome to ES6"
   ]
  },
  {
   "cell_type": "markdown",
   "metadata": {},
   "source": [
    "# Welcome to ES6"
   ]
  },
  {
   "cell_type": "code",
   "execution_count": null,
   "metadata": {
    "collapsed": false
   },
   "outputs": [],
   "source": [
    "'use strict'\n",
    "class Chat {\n",
    "    constructor(message) {\n",
    "        this.message = message;\n",
    "    }\n",
    "    say() {\n",
    "        console.log(this.message);\n",
    "    }\n",
    "};\n",
    "let chat = new Chat(\"Hello, ECMA2015 (ES6)\");\n",
    "chat.say();"
   ]
  }
 ],
 "metadata": {
  "kernelspec": {
   "display_name": "NodeJS",
   "language": "javascript",
   "name": "nodejs"
  },
  "language_info": {
   "codemirror_mode": "javascript",
   "file_extension": "js",
   "mimetype": "text/javascript",
   "name": "nodejs",
   "pygments_lexer": "javascript",
   "version": "0.10"
  }
 },
 "nbformat": 4,
 "nbformat_minor": 0
}
