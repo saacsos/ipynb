{
 "cells": [
  {
   "cell_type": "markdown",
   "metadata": {},
   "source": [
    "# Table of Contents\n",
    "## ทบทวน JavaScript\n",
    "* console.log()\n",
    "* Variable Declaration"
   ]
  },
  {
   "cell_type": "markdown",
   "metadata": {},
   "source": [
    "# console.log()\n",
    "> สำหรับ debug ข้อมูล โดยแสดงที่ Console"
   ]
  },
  {
   "cell_type": "code",
   "execution_count": null,
   "metadata": {
    "collapsed": false
   },
   "outputs": [],
   "source": [
    "console.log(100);"
   ]
  },
  {
   "cell_type": "code",
   "execution_count": null,
   "metadata": {
    "collapsed": false
   },
   "outputs": [],
   "source": [
    "console.log(123 + 456);"
   ]
  },
  {
   "cell_type": "code",
   "execution_count": null,
   "metadata": {
    "collapsed": false
   },
   "outputs": [],
   "source": [
    "console.log(\"Hello, JavaScript\");"
   ]
  },
  {
   "cell_type": "markdown",
   "metadata": {},
   "source": [
    "# Variable Declaration\n",
    "* การประกาศตัวแปร ใช้ keyword `var`"
   ]
  },
  {
   "cell_type": "code",
   "execution_count": null,
   "metadata": {
    "collapsed": false
   },
   "outputs": [],
   "source": [
    "var a = 1;\n",
    "console.log(\"a: \" + a);"
   ]
  },
  {
   "cell_type": "code",
   "execution_count": null,
   "metadata": {
    "collapsed": false
   },
   "outputs": [],
   "source": [
    "// ถ้าประกาศตัวแปร โดยไม่กำหนดค่า จะได้ undefined\n",
    "var b;\n",
    "console.log(\"b: \" + b);"
   ]
  },
  {
   "cell_type": "code",
   "execution_count": null,
   "metadata": {
    "collapsed": true
   },
   "outputs": [],
   "source": [
    "var c = 'c', d = 30, e = d;  // ประกาศหลายตัวแปรให้อยู่ในบรรทัดเดียว\n",
    "console.log(\"c: \" + c);\n",
    "console.log(\"d: \" + d);\n",
    "console.log(\"e: \" + e);"
   ]
  },
  {
   "cell_type": "markdown",
   "metadata": {},
   "source": [
    "* การประกาศตัวแปร อาจไม่ใช้ keyword `var` ก็ได้ แต่ต้อง initialize ค่าให้ด้วย"
   ]
  },
  {
   "cell_type": "code",
   "execution_count": null,
   "metadata": {
    "collapsed": false
   },
   "outputs": [],
   "source": [
    "x = 1;\n",
    "console.log(\"x: \" + x);"
   ]
  },
  {
   "cell_type": "code",
   "execution_count": null,
   "metadata": {
    "collapsed": false
   },
   "outputs": [],
   "source": [
    "// ถ้าไม่กำหนดค่าให้ จะเกิด ReferenceError\n",
    "y;\n",
    "console.log(\"y: \" + y);"
   ]
  },
  {
   "cell_type": "code",
   "execution_count": null,
   "metadata": {
    "collapsed": false
   },
   "outputs": [],
   "source": [
    "// ถ้าไม่ประกาศตัวแปร ก็ ReferenceError เช่นกัน\n",
    "console.log(\"z: \" + z);"
   ]
  }
 ],
 "metadata": {
  "kernelspec": {
   "display_name": "NodeJS",
   "language": "javascript",
   "name": "nodejs"
  },
  "language_info": {
   "codemirror_mode": "javascript",
   "file_extension": "js",
   "mimetype": "text/javascript",
   "name": "nodejs",
   "pygments_lexer": "javascript",
   "version": "0.10"
  }
 },
 "nbformat": 4,
 "nbformat_minor": 0
}
